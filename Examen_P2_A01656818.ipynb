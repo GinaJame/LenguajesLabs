{
 "cells": [
  {
   "cell_type": "markdown",
   "id": "be619d81",
   "metadata": {},
   "source": [
    "# Georgina Gámez A01656818"
   ]
  },
  {
   "cell_type": "code",
   "execution_count": 38,
   "id": "d3406ed0",
   "metadata": {},
   "outputs": [
    {
     "data": {
      "text/plain": [
       "#'user/cerosfinales"
      ]
     },
     "execution_count": 38,
     "metadata": {},
     "output_type": "execute_result"
    }
   ],
   "source": [
    "(defn cerosfinales [n]\n",
    "    (if (< n 0)\n",
    "        \"usar números positivos\"\n",
    "        (loop [n (str (apply * (range 1 (+ n 1)))) cuenta 0]\n",
    "            (if (not (= (last n) \\0))\n",
    "                cuenta\n",
    "                (recur (butlast n) (inc cuenta))\n",
    "            )\n",
    "        )\n",
    "    )\n",
    ")"
   ]
  },
  {
   "cell_type": "code",
   "execution_count": 33,
   "id": "2e944a50",
   "metadata": {},
   "outputs": [
    {
     "data": {
      "text/plain": [
       "0"
      ]
     },
     "execution_count": 33,
     "metadata": {},
     "output_type": "execute_result"
    }
   ],
   "source": [
    "(cerosfinales 3)"
   ]
  },
  {
   "cell_type": "code",
   "execution_count": 34,
   "id": "e32c0994",
   "metadata": {},
   "outputs": [
    {
     "data": {
      "text/plain": [
       "1"
      ]
     },
     "execution_count": 34,
     "metadata": {},
     "output_type": "execute_result"
    }
   ],
   "source": [
    "(cerosfinales 8)"
   ]
  },
  {
   "cell_type": "code",
   "execution_count": 35,
   "id": "a2e6f433",
   "metadata": {},
   "outputs": [
    {
     "data": {
      "text/plain": [
       "2"
      ]
     },
     "execution_count": 35,
     "metadata": {},
     "output_type": "execute_result"
    }
   ],
   "source": [
    "(cerosfinales 10)"
   ]
  },
  {
   "cell_type": "code",
   "execution_count": 36,
   "id": "d2a1858d",
   "metadata": {},
   "outputs": [
    {
     "data": {
      "text/plain": [
       "0"
      ]
     },
     "execution_count": 36,
     "metadata": {},
     "output_type": "execute_result"
    }
   ],
   "source": [
    "(cerosfinales 0)"
   ]
  },
  {
   "cell_type": "code",
   "execution_count": 51,
   "id": "3bc78d22",
   "metadata": {},
   "outputs": [
    {
     "data": {
      "text/plain": [
       "#'user/esPotenciaDos"
      ]
     },
     "execution_count": 51,
     "metadata": {},
     "output_type": "execute_result"
    }
   ],
   "source": [
    "(defn generateList [n]\n",
    "    (map #(reduce * (repeat % 2)) (range 0 (+ n 1)))\n",
    ")\n",
    "\n",
    "(defn esPotenciaDos [n]\n",
    "    (if ( = (last (generateList n)) n) n)\n",
    ")"
   ]
  },
  {
   "cell_type": "code",
   "execution_count": 52,
   "id": "ce934bf1",
   "metadata": {},
   "outputs": [
    {
     "data": {
      "text/plain": [
       "nil"
      ]
     },
     "execution_count": 52,
     "metadata": {},
     "output_type": "execute_result"
    }
   ],
   "source": [
    "(esPotenciaDos 32)"
   ]
  },
  {
   "cell_type": "code",
   "execution_count": 50,
   "id": "8933dedc",
   "metadata": {},
   "outputs": [
    {
     "data": {
      "text/plain": [
       "#'user/esPotenciaDos"
      ]
     },
     "execution_count": 50,
     "metadata": {},
     "output_type": "execute_result"
    }
   ],
   "source": [
    "(defn div2 [x]\n",
    "    ; utility function guaranteed input x>0\n",
    "    (if (= x 1)\n",
    "        true\n",
    "        (if (= (rem x 2) 1)\n",
    "            false\n",
    "            (recur (/ x 2))\n",
    "        )\n",
    "    )\n",
    ")\n",
    "\n",
    "(defn esPotenciaDos [n]\n",
    "    (if (< n 1)\n",
    "        \"Número inválido\"\n",
    "        (div2 n)   \n",
    "    )\n",
    ")"
   ]
  },
  {
   "cell_type": "code",
   "execution_count": 56,
   "id": "0b862fb8",
   "metadata": {},
   "outputs": [
    {
     "data": {
      "text/plain": [
       "#'user/esPotenciaDos"
      ]
     },
     "execution_count": 56,
     "metadata": {},
     "output_type": "execute_result"
    }
   ],
   "source": [
    "(defn generateList [n]\n",
    "    (map #(reduce * (repeat % 2)) (range 0 (+ n 1)))\n",
    ")\n",
    "\n",
    "(defn esPotenciaDos [n]\n",
    "    (last (doall (generateList n)) n)\n",
    ")"
   ]
  },
  {
   "cell_type": "code",
   "execution_count": 57,
   "id": "2b40a84c",
   "metadata": {},
   "outputs": [
    {
     "name": "stderr",
     "output_type": "stream",
     "text": [
      "Execution error (ArityException) at user/esPotenciaDos (REPL:6).\r\n",
      "Wrong number of args (2) passed to: clojure.core/last--5428\r\n"
     ]
    },
    {
     "ename": "class clojure.lang.ArityException",
     "evalue": "",
     "output_type": "error",
     "traceback": [
      "   AFn.java:   429 clojure.lang.AFn/throwArity",
      "   AFn.java:    36 clojure.lang.AFn/invoke",
      "   core.clj:  3214 clojure.core$eval/invokeStatic",
      "   core.clj:  3210 clojure.core$eval/invoke",
      "   main.clj:   437 clojure.main$repl$read_eval_print__9086$fn__9089/invoke",
      "   main.clj:   458 clojure.main$repl$fn__9095/invoke",
      "   main.clj:   368 clojure.main$repl/doInvoke",
      "RestFn.java:  1523 clojure.lang.RestFn/invoke",
      "   AFn.java:    22 clojure.lang.AFn/run",
      "   AFn.java:    22 clojure.lang.AFn/run",
      "Thread.java:   745 java.lang.Thread/run"
     ]
    }
   ],
   "source": [
    "(esPotenciaDos 16)"
   ]
  },
  {
   "cell_type": "code",
   "execution_count": 58,
   "id": "3126c9d6",
   "metadata": {},
   "outputs": [
    {
     "data": {
      "text/plain": [
       "#'user/esPotenciaDos"
      ]
     },
     "execution_count": 58,
     "metadata": {},
     "output_type": "execute_result"
    }
   ],
   "source": [
    "(defn generateList [n]\n",
    "    (map #(reduce * (repeat % 2)) (range 0 (+ n 1)))\n",
    ")\n",
    "\n",
    "(defn esPotenciaDos [n]\n",
    "    (loop [coll (generateList n)]\n",
    "        (if (empty? coll)\n",
    "            false\n",
    "            (if (= n (first coll))\n",
    "                true\n",
    "                (recur (rest coll))\n",
    "            )\n",
    "        )\n",
    "    )\n",
    "    \n",
    ")"
   ]
  },
  {
   "cell_type": "code",
   "execution_count": 62,
   "id": "04c9111d",
   "metadata": {},
   "outputs": [
    {
     "name": "stderr",
     "output_type": "stream",
     "text": [
      "Execution error (ArithmeticException) at user/generateList$fn (REPL:2).\r\n",
      "integer overflow\r\n"
     ]
    },
    {
     "ename": "class java.lang.ArithmeticException",
     "evalue": "",
     "output_type": "error",
     "traceback": [
      "Numbers.java:  1576 clojure.lang.Numbers/throwIntOverflow",
      "Numbers.java:  1960 clojure.lang.Numbers/multiply",
      "Numbers.java:   501 clojure.lang.Numbers$LongOps/multiply",
      "Numbers.java:   173 clojure.lang.Numbers/multiply",
      "    core.clj:  1016 clojure.core$_STAR_/invokeStatic",
      "    core.clj:  1008 clojure.core$_STAR_/invoke",
      " Repeat.java:    74 clojure.lang.Repeat/reduce",
      "    core.clj:  6823 clojure.core$reduce/invokeStatic",
      "    core.clj:  6810 clojure.core$reduce/invoke",
      "    core.clj:  2753 clojure.core$map$fn__5866/invoke",
      "LazySeq.java:    42 clojure.lang.LazySeq/sval",
      "LazySeq.java:    51 clojure.lang.LazySeq/seq",
      "     RT.java:   535 clojure.lang.RT/seq",
      "    core.clj:   137 clojure.core$seq__5402/invokeStatic",
      "    core.clj:  6206 clojure.core$empty_QMARK_/invokeStatic",
      "    core.clj:  3214 clojure.core$eval/invokeStatic",
      "    core.clj:  3210 clojure.core$eval/invoke",
      "    main.clj:   437 clojure.main$repl$read_eval_print__9086$fn__9089/invoke",
      "    main.clj:   458 clojure.main$repl$fn__9095/invoke",
      "    main.clj:   368 clojure.main$repl/doInvoke",
      " RestFn.java:  1523 clojure.lang.RestFn/invoke",
      "    AFn.java:    22 clojure.lang.AFn/run",
      "    AFn.java:    22 clojure.lang.AFn/run",
      " Thread.java:   745 java.lang.Thread/run"
     ]
    }
   ],
   "source": [
    "(defn generateList [n]\n",
    "    (map #(reduce * (repeat % 2)) (range 0 (+ n 1)))\n",
    ")\n",
    "\n",
    "(defn esPotenciaDos [n]\n",
    "    (loop [cool (generateList n)]\n",
    "        (if (empty? coll)\n",
    "            false\n",
    "            (if (= n (first coll))\n",
    "                true\n",
    "                (recur (rest coll))\n",
    "            )\n",
    "        )\n",
    "    )\n",
    "    \n",
    ")"
   ]
  },
  {
   "cell_type": "code",
   "execution_count": null,
   "id": "7dbbf9d9",
   "metadata": {},
   "outputs": [],
   "source": []
  }
 ],
 "metadata": {
  "kernelspec": {
   "display_name": "Clojure (clojupyter=0.3.2=1)",
   "language": "clojure",
   "name": "conda-clojupyter"
  },
  "language_info": {
   "file_extension": ".clj",
   "mimetype": "text/x-clojure",
   "name": "clojure",
   "version": "1.10.1"
  }
 },
 "nbformat": 4,
 "nbformat_minor": 5
}
