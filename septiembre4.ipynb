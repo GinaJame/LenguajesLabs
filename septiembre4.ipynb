{
 "cells": [
  {
   "cell_type": "code",
   "execution_count": 1,
   "id": "4ae5df8e",
   "metadata": {},
   "outputs": [
    {
     "data": {
      "text/plain": [
       "[7 8 9 (5 5 6)]"
      ]
     },
     "execution_count": 1,
     "metadata": {},
     "output_type": "execute_result"
    }
   ],
   "source": [
    "(conj [7 8 9] (cons 5 [5 6]))"
   ]
  },
  {
   "cell_type": "code",
   "execution_count": 2,
   "id": "66b3ec19",
   "metadata": {},
   "outputs": [
    {
     "data": {
      "text/plain": [
       "[5 8 9 []]"
      ]
     },
     "execution_count": 2,
     "metadata": {},
     "output_type": "execute_result"
    }
   ],
   "source": [
    "(-> ()\n",
    "    (conj 4)\n",
    "    (conj (inc 9))\n",
    "    (conj [5 8 9])\n",
    "    (first)\n",
    "    (conj []))"
   ]
  },
  {
   "cell_type": "code",
   "execution_count": 4,
   "id": "b43e179e",
   "metadata": {},
   "outputs": [
    {
     "data": {
      "text/plain": [
       "[8 9 0 []]"
      ]
     },
     "execution_count": 4,
     "metadata": {},
     "output_type": "execute_result"
    }
   ],
   "source": [
    "(-> ()\n",
    "    (conj 4)\n",
    "    (conj (inc 9))\n",
    "    (conj [8 9 0])\n",
    "    (first)\n",
    "    (conj [])\n",
    "    )"
   ]
  },
  {
   "cell_type": "code",
   "execution_count": 1,
   "id": "6b9c8015",
   "metadata": {},
   "outputs": [
    {
     "data": {
      "text/plain": [
       "[8]"
      ]
     },
     "execution_count": 1,
     "metadata": {},
     "output_type": "execute_result"
    }
   ],
   "source": [
    "(->> 4\n",
    "    (conj [])\n",
    "    (conj [7 8])\n",
    "    (conj [8 9 0])\n",
    "    (first)\n",
    "    (conj [])\n",
    "    )"
   ]
  },
  {
   "cell_type": "code",
   "execution_count": 1,
   "id": "a3cb24d2",
   "metadata": {},
   "outputs": [
    {
     "data": {
      "text/plain": [
       "(-10 -7 -4 -1 2 5 8 11 14 17)"
      ]
     },
     "execution_count": 1,
     "metadata": {},
     "output_type": "execute_result"
    }
   ],
   "source": [
    "(take 10 (iterate #(+ 3 %) -10))"
   ]
  },
  {
   "cell_type": "code",
   "execution_count": 2,
   "id": "b36b0c21",
   "metadata": {},
   "outputs": [
    {
     "data": {
      "text/plain": [
       "[8 9 7 (5 5 6)]"
      ]
     },
     "execution_count": 2,
     "metadata": {},
     "output_type": "execute_result"
    }
   ],
   "source": [
    "(conj [8 9 7] (cons 5 [5 6]))"
   ]
  },
  {
   "cell_type": "code",
   "execution_count": 3,
   "id": "0027024c",
   "metadata": {},
   "outputs": [
    {
     "data": {
      "text/plain": [
       "(1 2 4 8 16 32 64 128 256 512)"
      ]
     },
     "execution_count": 3,
     "metadata": {},
     "output_type": "execute_result"
    }
   ],
   "source": [
    "(take 10 (iterate #(* 2 %) 1))"
   ]
  },
  {
   "cell_type": "code",
   "execution_count": 7,
   "id": "17ce6dad",
   "metadata": {},
   "outputs": [
    {
     "name": "stdout",
     "output_type": "stream",
     "text": [
      "[]\r\n"
     ]
    },
    {
     "data": {
      "text/plain": [
       "#'user/modify"
      ]
     },
     "execution_count": 7,
     "metadata": {},
     "output_type": "execute_result"
    }
   ],
   "source": [
    "(defn mistery []\n",
    "    (def funkos (ref []))\n",
    "    (defn modify [n]\n",
    "        alter funkos conj n))\n",
    "    (modify \"Joker\")\n",
    "(modify \"Diana\")\n",
    "(println @funkos)\n",
    "(mistery)"
   ]
  },
  {
   "cell_type": "code",
   "execution_count": 8,
   "id": "9ac29a32",
   "metadata": {},
   "outputs": [
    {
     "data": {
      "text/plain": [
       "#ref[{:status :ready, :val []} 0x5ed89bb4]"
      ]
     },
     "execution_count": 8,
     "metadata": {},
     "output_type": "execute_result"
    }
   ],
   "source": []
  },
  {
   "cell_type": "code",
   "execution_count": null,
   "id": "9e0ee138",
   "metadata": {},
   "outputs": [],
   "source": []
  }
 ],
 "metadata": {
  "kernelspec": {
   "display_name": "Clojure (clojupyter=0.3.2=1)",
   "language": "clojure",
   "name": "conda-clojupyter"
  },
  "language_info": {
   "file_extension": ".clj",
   "mimetype": "text/x-clojure",
   "name": "clojure",
   "version": "1.10.1"
  }
 },
 "nbformat": 4,
 "nbformat_minor": 5
}
