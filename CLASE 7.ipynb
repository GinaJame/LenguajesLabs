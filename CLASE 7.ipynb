{
 "cells": [
  {
   "cell_type": "code",
   "execution_count": 1,
   "id": "4f244080",
   "metadata": {},
   "outputs": [
    {
     "data": {
      "text/plain": [
       "165580141"
      ]
     },
     "execution_count": 1,
     "metadata": {},
     "output_type": "execute_result"
    }
   ],
   "source": [
    "(defn fibonaci_recursivo\n",
    "  [n]\n",
    "  (if (<= n 1)\n",
    "    n\n",
    "    (+' (fibonaci_recursivo (- n 1)) (fibonaci_recursivo (- n 2)))))\n",
    "\n",
    "(fibonaci_recursivo 41)\n"
   ]
  },
  {
   "cell_type": "code",
   "execution_count": 3,
   "id": "8c4c7720",
   "metadata": {},
   "outputs": [
    {
     "data": {
      "text/plain": [
       "#'user/funcionNumeros"
      ]
     },
     "execution_count": 3,
     "metadata": {},
     "output_type": "execute_result"
    }
   ],
   "source": [
    "(defn funcionNumeros[a n ]\n",
    "        (loop [x a] ;; for (x = 10)\n",
    "            (when (< x n) ;; x < n\n",
    "                (println x)\n",
    "                (recur (inc x) );; x++\n",
    "            )\n",
    "        )\n",
    ")"
   ]
  },
  {
   "cell_type": "code",
   "execution_count": 5,
   "id": "673b54b6",
   "metadata": {},
   "outputs": [
    {
     "name": "stdout",
     "output_type": "stream",
     "text": [
      "0\n",
      "1\n",
      "2\n",
      "3\n",
      "4\n",
      "5\n",
      "6\n",
      "7\n",
      "8\n",
      "9\n",
      "10\n",
      "11\n",
      "12\n",
      "13\n",
      "14\n",
      "15\n",
      "16\n",
      "17\n",
      "18\n",
      "19\n",
      "20\n",
      "21\n",
      "22\n",
      "23\n",
      "24\n",
      "25\n",
      "26\n",
      "27\n",
      "28\n",
      "29\n",
      "30\n",
      "31\n",
      "32\n",
      "33\n",
      "34\n",
      "35\n",
      "36\n",
      "37\n",
      "38\n",
      "39\n",
      "40\n",
      "41\n",
      "42\n",
      "43\n",
      "44\n",
      "45\n",
      "46\n",
      "47\n",
      "48\n",
      "49\n",
      "50\n",
      "51\n",
      "52\n",
      "53\n",
      "54\n",
      "55\n",
      "56\n",
      "57\n",
      "58\n",
      "59\n",
      "60\n",
      "61\n",
      "62\n",
      "63\n",
      "64\n",
      "65\n",
      "66\n",
      "67\n",
      "68\n",
      "69\n",
      "70\n",
      "71\n",
      "72\n",
      "73\n",
      "74\n",
      "75\n",
      "76\n",
      "77\n",
      "78\n",
      "79\n",
      "80\n",
      "81\n",
      "82\n",
      "83\n",
      "84\n",
      "85\n",
      "86\n",
      "87\n",
      "88\n",
      "89\n"
     ]
    },
    {
     "data": {
      "text/plain": [
       "nil"
      ]
     },
     "execution_count": 5,
     "metadata": {},
     "output_type": "execute_result"
    }
   ],
   "source": [
    "(funcionNumeros 0 90)"
   ]
  },
  {
   "cell_type": "code",
   "execution_count": 7,
   "id": "ae2183d6",
   "metadata": {},
   "outputs": [
    {
     "data": {
      "text/plain": [
       "#'user/funcionNumeros2"
      ]
     },
     "execution_count": 7,
     "metadata": {},
     "output_type": "execute_result"
    }
   ],
   "source": [
    "(defn funcionNumeros2[a n ]\n",
    "        (loop [x a] ;; for (x = 10)\n",
    "            (when (< x n) ;; x < n\n",
    "                (println x)\n",
    "                (recur (#(+ % 2) x ) );; x++\n",
    "            )\n",
    "        )\n",
    ")"
   ]
  },
  {
   "cell_type": "code",
   "execution_count": 8,
   "id": "1a8ec0b6",
   "metadata": {},
   "outputs": [
    {
     "name": "stdout",
     "output_type": "stream",
     "text": [
      "0\n",
      "2\n",
      "4\n",
      "6\n",
      "8\n",
      "10\n",
      "12\n",
      "14\n",
      "16\n",
      "18\n"
     ]
    },
    {
     "data": {
      "text/plain": [
       "nil"
      ]
     },
     "execution_count": 8,
     "metadata": {},
     "output_type": "execute_result"
    }
   ],
   "source": [
    "(funcionNumeros 0 20)"
   ]
  },
  {
   "cell_type": "code",
   "execution_count": 10,
   "id": "73c33f8b",
   "metadata": {},
   "outputs": [
    {
     "data": {
      "text/plain": [
       "#'user/imprimeColeccion"
      ]
     },
     "execution_count": 10,
     "metadata": {},
     "output_type": "execute_result"
    }
   ],
   "source": [
    "(defn imprimeColeccion[coleccion]\n",
    "    (println (first coleccion))\n",
    "    (if (empty? coleccion)\n",
    "        (println \"no more items\")\n",
    "        (imprimeColeccion(rest coleccion))\n",
    "    )\n",
    "    \n",
    ")"
   ]
  },
  {
   "cell_type": "code",
   "execution_count": 12,
   "id": "1aae92c7",
   "metadata": {},
   "outputs": [
    {
     "name": "stdout",
     "output_type": "stream",
     "text": [
      "5\n",
      "6\n",
      "hola\n",
      "dos\n",
      "89\n",
      "nil\n",
      "no more items\n"
     ]
    },
    {
     "data": {
      "text/plain": [
       "nil"
      ]
     },
     "execution_count": 12,
     "metadata": {},
     "output_type": "execute_result"
    }
   ],
   "source": [
    "(imprimeColeccion [5 6 \"hola\" \"dos\" 89])"
   ]
  },
  {
   "cell_type": "code",
   "execution_count": 15,
   "id": "c36fd463",
   "metadata": {},
   "outputs": [
    {
     "data": {
      "text/plain": [
       "#'user/imprimeColeccion"
      ]
     },
     "execution_count": 15,
     "metadata": {},
     "output_type": "execute_result"
    }
   ],
   "source": [
    "(defn imprimeColeccion[coleccion]\n",
    "    (println (first coleccion))\n",
    "    (if (empty? coleccion)\n",
    "        (println \"no more items\")\n",
    "        (do\n",
    "            (imprimeColeccion(rest coleccion))\n",
    "            (println \"recursivo\")\n",
    "        )\n",
    "        \n",
    "    )\n",
    "    \n",
    ")"
   ]
  },
  {
   "cell_type": "code",
   "execution_count": 16,
   "id": "afdeea3f",
   "metadata": {},
   "outputs": [
    {
     "name": "stdout",
     "output_type": "stream",
     "text": [
      "5\n",
      "6\n",
      "hola\n",
      "dos\n",
      "89\n",
      "nil\n",
      "no more items\n",
      "recursivo\n",
      "recursivo\n",
      "recursivo\n",
      "recursivo\n",
      "recursivo\n"
     ]
    },
    {
     "data": {
      "text/plain": [
       "nil"
      ]
     },
     "execution_count": 16,
     "metadata": {},
     "output_type": "execute_result"
    }
   ],
   "source": [
    "(imprimeColeccion [5 6 \"hola\" \"dos\" 89])"
   ]
  },
  {
   "cell_type": "code",
   "execution_count": 17,
   "id": "9fac5627",
   "metadata": {},
   "outputs": [
    {
     "data": {
      "text/plain": [
       "#'user/imprimeColeccion"
      ]
     },
     "execution_count": 17,
     "metadata": {},
     "output_type": "execute_result"
    }
   ],
   "source": [
    "(defn imprimeColeccion[coleccion] \n",
    "    (if (empty? coleccion)\n",
    "        (println \" no more \")\n",
    "        (do \n",
    "            (println (first coleccion))\n",
    "            (imprimeColeccion(rest coleccion))\n",
    "            (println \" recursivo \")\n",
    "        )\n",
    "    )\n",
    ")\n"
   ]
  },
  {
   "cell_type": "code",
   "execution_count": 18,
   "id": "b4b18176",
   "metadata": {},
   "outputs": [
    {
     "name": "stdout",
     "output_type": "stream",
     "text": [
      "5\n",
      "7\n",
      "8\n",
      " no more \n",
      " recursivo \n",
      " recursivo \n",
      " recursivo \n"
     ]
    },
    {
     "data": {
      "text/plain": [
       "nil"
      ]
     },
     "execution_count": 18,
     "metadata": {},
     "output_type": "execute_result"
    }
   ],
   "source": [
    "(imprimeColeccion '(5 7 8))"
   ]
  },
  {
   "cell_type": "code",
   "execution_count": 19,
   "id": "a0d4c019",
   "metadata": {},
   "outputs": [
    {
     "data": {
      "text/plain": [
       "#'user/tamanio"
      ]
     },
     "execution_count": 19,
     "metadata": {},
     "output_type": "execute_result"
    }
   ],
   "source": [
    "(defn tamanio [coleccion]\n",
    "    (if (empty? coleccion)\n",
    "        0\n",
    "        (+ 1 (tamanio (rest coleccion)))\n",
    "    )    \n",
    "    \n",
    ")"
   ]
  },
  {
   "cell_type": "code",
   "execution_count": 20,
   "id": "03cc6822",
   "metadata": {},
   "outputs": [
    {
     "data": {
      "text/plain": [
       "3"
      ]
     },
     "execution_count": 20,
     "metadata": {},
     "output_type": "execute_result"
    }
   ],
   "source": [
    "(tamanio #{4 5 6})"
   ]
  },
  {
   "cell_type": "code",
   "execution_count": null,
   "id": "5b0dcca3",
   "metadata": {},
   "outputs": [],
   "source": []
  }
 ],
 "metadata": {
  "kernelspec": {
   "display_name": "Clojure (clojupyter=0.3.2=1)",
   "language": "clojure",
   "name": "conda-clojupyter"
  },
  "language_info": {
   "file_extension": ".clj",
   "mimetype": "text/x-clojure",
   "name": "clojure",
   "version": "1.10.1"
  }
 },
 "nbformat": 4,
 "nbformat_minor": 5
}
