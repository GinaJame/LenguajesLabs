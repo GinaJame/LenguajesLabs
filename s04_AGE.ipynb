{
 "cells": [
  {
   "cell_type": "markdown",
   "metadata": {},
   "source": [
    "# Movies Lab:\n",
    "\n",
    "---\n",
    "\n",
    "- _Student ID and Name:_ A01026848 Bryan Alexis Monroy Álvarez\n",
    "- _Student ID and Name:_ A0656818 Georgina Alejandra Gámez Melgar\n",
    "- _Student ID and Name:_ A01376748 Eric Andrés Jardón Chao\n",
    "\n",
    "---\n",
    "\n",
    "**Instructions:** Write the Clojure code to solve the following problems. Make sure each function passes all the unit tests.\n"
   ]
  },
  {
   "cell_type": "code",
   "execution_count": 2,
   "metadata": {},
   "outputs": [
    {
     "data": {
      "text/plain": [
       "nil"
      ]
     },
     "execution_count": 2,
     "metadata": {},
     "output_type": "execute_result"
    }
   ],
   "source": [
    ";;; External functions required for this notebook.\n",
    "(require '[clojure.test :refer [is]])\n",
    "(require '[cemerick.pomegranate :refer [add-dependencies]])\n",
    "(add-dependencies :coordinates '[[org.clojure/math.numeric-tower \"0.0.4\"]])\n",
    "(require '[clojure.math.numeric-tower :refer [sqrt]])"
   ]
  },
  {
   "cell_type": "markdown",
   "metadata": {},
   "source": [
    "## Problem: Aliens\n",
    "\n",
    "Write a function called `aliens` that takes the distance $distance$ that aliens are near to Ripley's crew.\n",
    "\n",
    "|Aliens range    |Message|\n",
    "|:-----------:|:---------:|\n",
    "|distance < 20     |Ripley Dies!|\n",
    "|20 ≤ distance < 25|Almost Done    |\n",
    "|25 ≤ distance < 50|Run Ripley   |\n",
    "|50 ≤ distance < 70|I see non Aliens     |\n",
    "|70 ≤ distance     |You are reading it wrong     |\n"
   ]
  },
  {
   "cell_type": "code",
   "execution_count": 44,
   "metadata": {},
   "outputs": [
    {
     "data": {
      "text/plain": [
       "#'user/aliens"
      ]
     },
     "execution_count": 44,
     "metadata": {},
     "output_type": "execute_result"
    }
   ],
   "source": [
    "(defn aliens\n",
    "  [distance]\n",
    "    (let [distance distance]\n",
    "        (cond \n",
    "    (< distance 20)  \"Ripley Dies!\"\n",
    "    (and (>= distance 20) (< distance 25)) \"Almost Done\"\n",
    "    (and (>= distance 25) (< distance 50)) \"Run Ripley\"\n",
    "    (and (>= distance 50) (< distance 70)) \"I see non Aliens\"\n",
    "    :else  \"You are reading it wrong\"\n",
    "   )\n",
    "        )\n",
    "  )"
   ]
  },
  {
   "cell_type": "code",
   "execution_count": 45,
   "metadata": {},
   "outputs": [
    {
     "data": {
      "text/plain": [
       "true"
      ]
     },
     "execution_count": 45,
     "metadata": {},
     "output_type": "execute_result"
    }
   ],
   "source": [
    ";;; Unit tests:\n",
    "(is (= \"Ripley Dies!\" (aliens 10) ))"
   ]
  },
  {
   "cell_type": "code",
   "execution_count": 46,
   "metadata": {},
   "outputs": [
    {
     "data": {
      "text/plain": [
       "true"
      ]
     },
     "execution_count": 46,
     "metadata": {},
     "output_type": "execute_result"
    }
   ],
   "source": [
    ";;; Unit tests:\n",
    "(is (= \"Almost Done\" (aliens 23) ))\n",
    "(is (= \"Run Ripley\" (aliens 27) ))\n",
    "(is (= \"I see non Aliens\" (aliens 55) ))\n",
    "(is (= \"You are reading it wrong\" (aliens 80) ))"
   ]
  },
  {
   "cell_type": "markdown",
   "metadata": {},
   "source": [
    "## Problem Queen:\n",
    "\n",
    "Write a function called `freddie` that takes an integer value $galileos$. It prints \"NEGATIVE NUMBER DARLING\" if  $galileos$ is negative otherwise it prints \"Galileo Figaro\" times $galileos$"
   ]
  },
  {
   "cell_type": "code",
   "execution_count": 42,
   "metadata": {},
   "outputs": [
    {
     "data": {
      "text/plain": [
       "#'user/freddie"
      ]
     },
     "execution_count": 42,
     "metadata": {},
     "output_type": "execute_result"
    }
   ],
   "source": [
    "(defn freddie\n",
    "  [galileos]\n",
    "  (cond\n",
    "         (< galileos 0) \"NEGATIVE NUMBER DARLING\"\n",
    "         :else (repeat galileos \"Galileo Figaro\")\n",
    "\n",
    "            )\n",
    "    )\n",
    "    "
   ]
  },
  {
   "cell_type": "code",
   "execution_count": 43,
   "metadata": {},
   "outputs": [
    {
     "data": {
      "text/plain": [
       "true"
      ]
     },
     "execution_count": 43,
     "metadata": {},
     "output_type": "execute_result"
    }
   ],
   "source": [
    ";;; Unit tests:\n",
    "(is (= \"NEGATIVE NUMBER DARLING\" (freddie -1) ))\n",
    "(is (= () (freddie 0) ))\n",
    "(is (= '(\"Galileo Figaro\" \"Galileo Figaro\" \"Galileo Figaro\" \"Galileo Figaro\" \"Galileo Figaro\") (freddie 5) ))"
   ]
  },
  {
   "cell_type": "markdown",
   "metadata": {},
   "source": [
    "## Problem: Factorial\n",
    "\n",
    "Write the function `factorial`  to calculate the factorial of a $\\textit{number}$."
   ]
  },
  {
   "cell_type": "code",
   "execution_count": 40,
   "metadata": {},
   "outputs": [
    {
     "data": {
      "text/plain": [
       "#'user/factorial"
      ]
     },
     "execution_count": 40,
     "metadata": {},
     "output_type": "execute_result"
    }
   ],
   "source": [
    "(defn factorial\n",
    "  [number]\n",
    "    (if(zero? number) 1\n",
    "        (* number (factorial(- number 1))) \n",
    "    )\n",
    ")"
   ]
  },
  {
   "cell_type": "code",
   "execution_count": 39,
   "metadata": {},
   "outputs": [
    {
     "data": {
      "text/plain": [
       "true"
      ]
     },
     "execution_count": 39,
     "metadata": {},
     "output_type": "execute_result"
    }
   ],
   "source": [
    ";;; Unit tests:\n",
    ";; ask for the value for number to the user\n",
    "(is (= 120 (factorial 5) ))"
   ]
  },
  {
   "cell_type": "markdown",
   "metadata": {},
   "source": [
    "## Problem: Power\n",
    "\n",
    "Write the function `power`  to calculate the power of a $\\textit{base}$ elevated to $\\textit{exponent}$ .\n",
    "\n",
    "Consider the following:\n",
    "$a^{2}$ = a Any number raised to the power of one equals the number itself.\n",
    "For any number a, except 0, $a^{0}$ = 1 Any number raised to the power of zero, except zero, equals one.\n"
   ]
  },
  {
   "cell_type": "code",
   "execution_count": 38,
   "metadata": {},
   "outputs": [
    {
     "data": {
      "text/plain": [
       "#'user/power"
      ]
     },
     "execution_count": 38,
     "metadata": {},
     "output_type": "execute_result"
    }
   ],
   "source": [
    "(defn power\n",
    "  [base p]\n",
    "      (if(zero? p) 1\n",
    "        (* base (power base (- p 1))) \n",
    "      )\n",
    "  )"
   ]
  },
  {
   "cell_type": "code",
   "execution_count": 37,
   "metadata": {},
   "outputs": [
    {
     "data": {
      "text/plain": [
       "true"
      ]
     },
     "execution_count": 37,
     "metadata": {},
     "output_type": "execute_result"
    }
   ],
   "source": [
    ";;; Unit tests:\n",
    ";; ask for the value of base and exponent to the user\n",
    "(is (= 8 (power 2 3) ))\n",
    "(is (= 25 (power 5 2) ))"
   ]
  },
  {
   "cell_type": "code",
   "execution_count": null,
   "metadata": {},
   "outputs": [],
   "source": []
  }
 ],
 "metadata": {
  "kernelspec": {
   "display_name": "Clojure (clojupyter=0.3.2=1)",
   "language": "clojure",
   "name": "conda-clojupyter"
  },
  "language_info": {
   "file_extension": ".clj",
   "mimetype": "text/x-clojure",
   "name": "clojure",
   "version": "1.10.1"
  }
 },
 "nbformat": 4,
 "nbformat_minor": 4
}
