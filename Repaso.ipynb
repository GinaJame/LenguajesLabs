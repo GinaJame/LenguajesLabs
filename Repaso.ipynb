{
 "cells": [
  {
   "cell_type": "code",
   "execution_count": 30,
   "id": "497ce722",
   "metadata": {},
   "outputs": [
    {
     "data": {
      "text/plain": [
       "#'user/deficientes"
      ]
     },
     "execution_count": 30,
     "metadata": {},
     "output_type": "execute_result"
    }
   ],
   "source": [
    " (defn deficientes [n]\n",
    "    (if (< (apply + (filter #(= (rem n %) 0) (range 1 (+ (Math/ceil(/ n 2)) 1)))) n)\n",
    "        1\n",
    "        0)\n",
    ")"
   ]
  },
  {
   "cell_type": "code",
   "execution_count": 40,
   "id": "94e6230c",
   "metadata": {},
   "outputs": [
    {
     "name": "stderr",
     "output_type": "stream",
     "text": [
      "*Interrupted*\n"
     ]
    },
    {
     "ename": "interrupted",
     "evalue": "",
     "output_type": "error",
     "traceback": [
      "(no stacktrace)"
     ]
    }
   ],
   "source": [
    "(deficientes 1000000000)"
   ]
  },
  {
   "cell_type": "code",
   "execution_count": 174,
   "id": "2227166e",
   "metadata": {},
   "outputs": [
    {
     "data": {
      "text/plain": [
       "1"
      ]
     },
     "execution_count": 174,
     "metadata": {},
     "output_type": "execute_result"
    }
   ],
   "source": [
    "(quot 5 4)"
   ]
  },
  {
   "cell_type": "code",
   "execution_count": 17,
   "id": "07843596",
   "metadata": {},
   "outputs": [
    {
     "data": {
      "text/plain": [
       "2"
      ]
     },
     "execution_count": 17,
     "metadata": {},
     "output_type": "execute_result"
    }
   ],
   "source": [
    "(rem 2 3)"
   ]
  },
  {
   "cell_type": "code",
   "execution_count": 22,
   "id": "abb4d9c3",
   "metadata": {},
   "outputs": [
    {
     "data": {
      "text/plain": [
       "(1 2 5)"
      ]
     },
     "execution_count": 22,
     "metadata": {},
     "output_type": "execute_result"
    }
   ],
   "source": [
    "(filter #(= (rem 10 %) 0) (range 1 (+ (Math/ceil(/ 10 2)) 1))) "
   ]
  },
  {
   "cell_type": "code",
   "execution_count": 53,
   "id": "8b21dfc7",
   "metadata": {},
   "outputs": [
    {
     "data": {
      "text/plain": [
       "#'user/codificar"
      ]
     },
     "execution_count": 53,
     "metadata": {},
     "output_type": "execute_result"
    }
   ],
   "source": [
    "(defn codificar\n",
    "    [lst]\n",
    "    (loop [lst lst current (first lst) sum 0 answer ()]\n",
    "        (if (empty? lst)\n",
    "            (reverse (cons [sum current] answer))\n",
    "            (if (= current (first lst))\n",
    "                (recur (rest lst) current (inc sum) answer)\n",
    "                (recur (rest lst) (first lst) 1 (cons [sum current] answer))\n",
    "            )\n",
    "        )\n",
    "    )\n",
    ")"
   ]
  },
  {
   "cell_type": "code",
   "execution_count": 48,
   "id": "8d5e7904",
   "metadata": {},
   "outputs": [
    {
     "data": {
      "text/plain": [
       "()"
      ]
     },
     "execution_count": 48,
     "metadata": {},
     "output_type": "execute_result"
    }
   ],
   "source": [
    "(codificar ())"
   ]
  },
  {
   "cell_type": "code",
   "execution_count": 56,
   "id": "87e53caa",
   "metadata": {},
   "outputs": [
    {
     "data": {
      "text/plain": [
       "([4 a] [1 b] [2 c] [2 a] [1 d] [4 e])"
      ]
     },
     "execution_count": 56,
     "metadata": {},
     "output_type": "execute_result"
    }
   ],
   "source": [
    "(codificar '(a a a a b c c a a d e e e e))"
   ]
  },
  {
   "cell_type": "code",
   "execution_count": null,
   "id": "73701030",
   "metadata": {},
   "outputs": [],
   "source": []
  },
  {
   "cell_type": "code",
   "execution_count": 57,
   "id": "aacb927f",
   "metadata": {},
   "outputs": [
    {
     "data": {
      "text/plain": [
       "nil"
      ]
     },
     "execution_count": 57,
     "metadata": {},
     "output_type": "execute_result"
    }
   ],
   "source": [
    "(require '[clojure.test :refer [is]])"
   ]
  },
  {
   "cell_type": "code",
   "execution_count": 171,
   "id": "08c50724",
   "metadata": {},
   "outputs": [
    {
     "data": {
      "text/plain": [
       "#'user/tres"
      ]
     },
     "execution_count": 171,
     "metadata": {},
     "output_type": "execute_result"
    }
   ],
   "source": [
    "(defn tres [s lista]\n",
    "    (loop [primera () segunda lista opciones ()]\n",
    "        (if (empty? segunda)\n",
    "            (reverse (cons (concat primera (list s) segunda) opciones))\n",
    "            (recur (concat primera (list (first segunda))) (rest segunda) (cons (concat (concat primera (list s)) segunda) opciones))\n",
    "        )\n",
    "    )\n",
    ")"
   ]
  },
  {
   "cell_type": "code",
   "execution_count": null,
   "id": "ad2a70d0",
   "metadata": {},
   "outputs": [],
   "source": []
  },
  {
   "cell_type": "code",
   "execution_count": 172,
   "id": "499421f2",
   "metadata": {},
   "outputs": [
    {
     "data": {
      "text/plain": [
       "true"
      ]
     },
     "execution_count": 172,
     "metadata": {},
     "output_type": "execute_result"
    }
   ],
   "source": [
    "(is (= '((1 batman) (batman 1))  (tres 1 '(batman)) ))"
   ]
  },
  {
   "cell_type": "code",
   "execution_count": 163,
   "id": "ad640331",
   "metadata": {},
   "outputs": [
    {
     "data": {
      "text/plain": [
       "#'user/uno"
      ]
     },
     "execution_count": 163,
     "metadata": {},
     "output_type": "execute_result"
    }
   ],
   "source": [
    "\n",
    "(defn uno [x y lst]\n",
    "    (map \n",
    "         #( \n",
    "               if (coll? %) \n",
    "                   (uno x y %)\n",
    "                    (if (= % x) \n",
    "                        y\n",
    "                        (if (= % y)\n",
    "                            x\n",
    "                            %\n",
    "                        )\n",
    "                    )\n",
    "           )\n",
    "         lst\n",
    "    )\n",
    ")\n"
   ]
  },
  {
   "cell_type": "code",
   "execution_count": null,
   "id": "6736000c",
   "metadata": {},
   "outputs": [],
   "source": []
  },
  {
   "cell_type": "code",
   "execution_count": 164,
   "id": "60f1e3b3",
   "metadata": {},
   "outputs": [
    {
     "data": {
      "text/plain": [
       "(2 1 3 1 2)"
      ]
     },
     "execution_count": 164,
     "metadata": {},
     "output_type": "execute_result"
    }
   ],
   "source": [
    "(uno 1 2 '(1 2 3 2 1))"
   ]
  },
  {
   "cell_type": "code",
   "execution_count": 166,
   "id": "152b32b4",
   "metadata": {},
   "outputs": [
    {
     "data": {
      "text/plain": [
       "true"
      ]
     },
     "execution_count": 166,
     "metadata": {},
     "output_type": "execute_result"
    }
   ],
   "source": [
    "(is (= '(5 6 7 9 (4) (4 100))  (uno 70 80 '(5 6 7 9 (4) (4 100)) )))"
   ]
  },
  {
   "cell_type": "code",
   "execution_count": 167,
   "id": "c1abc45d",
   "metadata": {},
   "outputs": [
    {
     "data": {
      "text/plain": [
       "true"
      ]
     },
     "execution_count": 167,
     "metadata": {},
     "output_type": "execute_result"
    }
   ],
   "source": [
    "(is (= '(5 1 2 9 (2 1) (9 1 10))  (uno 1 2 '(5 2 1 9 (1 2) (9 2 10)) )))"
   ]
  },
  {
   "cell_type": "code",
   "execution_count": 142,
   "id": "511b3306",
   "metadata": {},
   "outputs": [
    {
     "data": {
      "text/plain": [
       "(9 2 1 5)"
      ]
     },
     "execution_count": 142,
     "metadata": {},
     "output_type": "execute_result"
    }
   ],
   "source": [
    "(uno 1 2 '(5 2 1 9 (1 2) (9 2 10)) )"
   ]
  },
  {
   "cell_type": "code",
   "execution_count": 121,
   "id": "348be469",
   "metadata": {},
   "outputs": [
    {
     "data": {
      "text/plain": [
       "#'user/GCD"
      ]
     },
     "execution_count": 121,
     "metadata": {},
     "output_type": "execute_result"
    }
   ],
   "source": [
    "(defn gcd [a b]\n",
    "    (if (= a 0)\n",
    "        b\n",
    "        (recur (rem b a) a)\n",
    "    )\n",
    ")\n",
    "\n",
    "(defn GCD [a b]\n",
    "    (if (or (<= a 0) (<= b 0))\n",
    "        \"Cannot be processed\"\n",
    "        (gcd a b))\n",
    "    \n",
    ")"
   ]
  },
  {
   "cell_type": "code",
   "execution_count": 185,
   "id": "f2d731cb",
   "metadata": {},
   "outputs": [
    {
     "data": {
      "text/plain": [
       "#'user/dos"
      ]
     },
     "execution_count": 185,
     "metadata": {},
     "output_type": "execute_result"
    }
   ],
   "source": [
    "(defn dos [x y]\n",
    "    (cond\n",
    "        (= x 0) '\"NA\"\n",
    "        (= y 0) '\"NA\"\n",
    "        :else (do\n",
    "                   (loop [x (max x y) y (min x y)]\n",
    "                       (if (= 0 y) \n",
    "                           x\n",
    "                           (recur y (rem x y))\n",
    "                        )\n",
    "                    \n",
    "                    )\n",
    "               )\n",
    "        )\n",
    ")"
   ]
  },
  {
   "cell_type": "code",
   "execution_count": 180,
   "id": "d86e0cb9",
   "metadata": {},
   "outputs": [
    {
     "data": {
      "text/plain": [
       "5"
      ]
     },
     "execution_count": 180,
     "metadata": {},
     "output_type": "execute_result"
    }
   ],
   "source": [
    "(loop [x (max 10 5) y (min 10 5)]\n",
    "                       (if (= 0 y) \n",
    "                           x\n",
    "                           (recur y (rem x y))\n",
    "                        )\n",
    "                    \n",
    "                    )"
   ]
  },
  {
   "cell_type": "code",
   "execution_count": 182,
   "id": "ee084d55",
   "metadata": {},
   "outputs": [
    {
     "data": {
      "text/plain": [
       "true"
      ]
     },
     "execution_count": 182,
     "metadata": {},
     "output_type": "execute_result"
    }
   ],
   "source": [
    "(is (= 1 (dos 17 13  )))"
   ]
  },
  {
   "cell_type": "code",
   "execution_count": 183,
   "id": "d37484b5",
   "metadata": {},
   "outputs": [
    {
     "data": {
      "text/plain": [
       "\"no se puede procesar\""
      ]
     },
     "execution_count": 183,
     "metadata": {},
     "output_type": "execute_result"
    }
   ],
   "source": [
    "(dos 0 13  )"
   ]
  },
  {
   "cell_type": "code",
   "execution_count": 186,
   "id": "49e68b7e",
   "metadata": {},
   "outputs": [
    {
     "data": {
      "text/plain": [
       "true"
      ]
     },
     "execution_count": 186,
     "metadata": {},
     "output_type": "execute_result"
    }
   ],
   "source": [
    "(is (= 1 (dos 17 13  )))\n",
    "(is (= \"NA\" (dos 0 13  )))\n",
    "(is (= 12 (dos 180 48)))\n",
    "(is (= 14 (dos 56 42)))\n"
   ]
  },
  {
   "cell_type": "code",
   "execution_count": 187,
   "id": "2b9fcfde",
   "metadata": {},
   "outputs": [
    {
     "name": "stderr",
     "output_type": "stream",
     "text": [
      "Execution error (IllegalStateException) at user/eval4472 (REPL:5).\n",
      "Attempting to call unbound fn: #'user/modify\n",
      "Execution error (IllegalStateException) at user/eval4474 (REPL:6).\n",
      "Attempting to call unbound fn: #'user/modify\n",
      "Execution error (ClassCastException) at user/eval4476 (REPL:7).\n",
      "clojure.lang.Var$Unbound cannot be cast to java.util.concurrent.Future\n"
     ]
    },
    {
     "ename": "class java.lang.ClassCastException",
     "evalue": "",
     "output_type": "error",
     "traceback": [
      "   core.clj:  2298 clojure.core$deref_future/invokeStatic",
      "   core.clj:  2320 clojure.core$deref/invokeStatic",
      "   core.clj:  2306 clojure.core$deref/invoke",
      "   core.clj:  3214 clojure.core$eval/invokeStatic",
      "   core.clj:  3210 clojure.core$eval/invoke",
      "   main.clj:   437 clojure.main$repl$read_eval_print__9086$fn__9089/invoke",
      "   main.clj:   458 clojure.main$repl$fn__9095/invoke",
      "   main.clj:   368 clojure.main$repl/doInvoke",
      "RestFn.java:  1523 clojure.lang.RestFn/invoke",
      "   AFn.java:    22 clojure.lang.AFn/run",
      "   AFn.java:    22 clojure.lang.AFn/run",
      "Thread.java:   745 java.lang.Thread/run"
     ]
    }
   ],
   "source": [
    "(defn mistery []\n",
    "    (def funkos (ref []))\n",
    "    (defn modify [n]\n",
    "        alter funkos conj n))\n",
    "    (modify \"Joker\")\n",
    "(modify \"Diana\")\n",
    "(println @funkos)\n",
    "(mistery)"
   ]
  },
  {
   "cell_type": "code",
   "execution_count": 188,
   "id": "79188ace",
   "metadata": {},
   "outputs": [
    {
     "data": {
      "text/plain": [
       "(1 2 4 8 16 32 64 128 256 512)"
      ]
     },
     "execution_count": 188,
     "metadata": {},
     "output_type": "execute_result"
    }
   ],
   "source": [
    "(take 10 (iterate #(* 2 %) 1))"
   ]
  },
  {
   "cell_type": "code",
   "execution_count": 189,
   "id": "69170fd4",
   "metadata": {},
   "outputs": [
    {
     "data": {
      "text/plain": [
       "[8 9 7 (5 5 6)]"
      ]
     },
     "execution_count": 189,
     "metadata": {},
     "output_type": "execute_result"
    }
   ],
   "source": [
    "(conj [8 9 7] (cons 5 [5 6]))"
   ]
  },
  {
   "cell_type": "code",
   "execution_count": 190,
   "id": "bb6b4054",
   "metadata": {},
   "outputs": [
    {
     "data": {
      "text/plain": [
       "(-10 -7 -4 -1 2 5 8 11 14 17)"
      ]
     },
     "execution_count": 190,
     "metadata": {},
     "output_type": "execute_result"
    }
   ],
   "source": [
    "(take 10 (iterate #(+ 3 %) -10))"
   ]
  },
  {
   "cell_type": "code",
   "execution_count": 191,
   "id": "98371e6a",
   "metadata": {},
   "outputs": [
    {
     "data": {
      "text/plain": [
       "[8]"
      ]
     },
     "execution_count": 191,
     "metadata": {},
     "output_type": "execute_result"
    }
   ],
   "source": [
    "(->> 4\n",
    "    (conj [])\n",
    "    (conj [7 8])\n",
    "    (conj [8 9 0])\n",
    "    (first)\n",
    "    (conj [])\n",
    "    )"
   ]
  },
  {
   "cell_type": "code",
   "execution_count": 192,
   "id": "552512bd",
   "metadata": {},
   "outputs": [
    {
     "data": {
      "text/plain": [
       "[8 9 0 []]"
      ]
     },
     "execution_count": 192,
     "metadata": {},
     "output_type": "execute_result"
    }
   ],
   "source": [
    "(-> ()\n",
    "    (conj 4)\n",
    "    (conj (inc 9))\n",
    "    (conj [8 9 0])\n",
    "    (first)\n",
    "    (conj [])\n",
    "    )"
   ]
  },
  {
   "cell_type": "code",
   "execution_count": 207,
   "id": "25c9c539",
   "metadata": {},
   "outputs": [
    {
     "data": {
      "text/plain": [
       "[8 9 0 []]"
      ]
     },
     "execution_count": 207,
     "metadata": {},
     "output_type": "execute_result"
    }
   ],
   "source": [
    "(-> ()\n",
    "    (conj 4)\n",
    "    (conj (inc 9))\n",
    "    (conj [8 9 0])\n",
    "    (first)\n",
    "    (conj [])\n",
    "    )"
   ]
  },
  {
   "cell_type": "code",
   "execution_count": 193,
   "id": "2818e312",
   "metadata": {},
   "outputs": [
    {
     "data": {
      "text/plain": [
       "[5 8 9 []]"
      ]
     },
     "execution_count": 193,
     "metadata": {},
     "output_type": "execute_result"
    }
   ],
   "source": [
    "(-> ()\n",
    "    (conj 4)\n",
    "    (conj (inc 9))\n",
    "    (conj [5 8 9])\n",
    "    (first)\n",
    "    (conj []))"
   ]
  },
  {
   "cell_type": "code",
   "execution_count": 194,
   "id": "2b331c59",
   "metadata": {},
   "outputs": [
    {
     "data": {
      "text/plain": [
       "[7 8 9 (5 5 6)]"
      ]
     },
     "execution_count": 194,
     "metadata": {},
     "output_type": "execute_result"
    }
   ],
   "source": [
    "(conj [7 8 9] (cons 5 [5 6]))"
   ]
  },
  {
   "cell_type": "code",
   "execution_count": 201,
   "id": "61a4f9b9",
   "metadata": {},
   "outputs": [
    {
     "name": "stdout",
     "output_type": "stream",
     "text": [
      "11\r\n"
     ]
    },
    {
     "data": {
      "text/plain": [
       "nil"
      ]
     },
     "execution_count": 201,
     "metadata": {},
     "output_type": "execute_result"
    }
   ],
   "source": [
    "(defn e []\n",
    "    (def ma (atom 1))\n",
    "    (dotimes [x 10]\n",
    "        (dosync (swap! ma inc)))\n",
    "    (println @ma))\n",
    "(e)"
   ]
  },
  {
   "cell_type": "code",
   "execution_count": 196,
   "id": "f9da854f",
   "metadata": {},
   "outputs": [
    {
     "data": {
      "text/plain": [
       "\"|123|\""
      ]
     },
     "execution_count": 196,
     "metadata": {},
     "output_type": "execute_result"
    }
   ],
   "source": [
    "(str nil \"|\" 1 nil 2 (str (str nil) 3 \"|\"))"
   ]
  },
  {
   "cell_type": "code",
   "execution_count": 198,
   "id": "361e9870",
   "metadata": {},
   "outputs": [
    {
     "name": "stdout",
     "output_type": "stream",
     "text": [
      "true\n",
      "false\n",
      "\n",
      "true\n",
      "false\n",
      "true\n"
     ]
    },
    {
     "data": {
      "text/plain": [
       "nil"
      ]
     },
     "execution_count": 198,
     "metadata": {},
     "output_type": "execute_result"
    }
   ],
   "source": [
    "(println (zero? (/ 0 7)))\n",
    "(println (zero? (/ 1 7)))\n",
    "(println (nil? (println)))\n",
    "(println (true? (== 4 5 6)))\n",
    "(println (true? (not (== 4 5 6))))"
   ]
  },
  {
   "cell_type": "code",
   "execution_count": 199,
   "id": "847f641a",
   "metadata": {},
   "outputs": [
    {
     "data": {
      "text/plain": [
       "0"
      ]
     },
     "execution_count": 199,
     "metadata": {},
     "output_type": "execute_result"
    }
   ],
   "source": [
    "(reduce - (filter #(> % 10) (map #(* % %)[-5 2 0 -3 1 5])))"
   ]
  },
  {
   "cell_type": "code",
   "execution_count": null,
   "id": "5812aec2",
   "metadata": {},
   "outputs": [],
   "source": [
    ";;examen\n",
    "(defn intercalar-recursive [a b]\n",
    "    (loop [a a b b answer ()]\n",
    "        (if (empty? a)\n",
    "            (reverse answer)\n",
    "            (if (empty? b)\n",
    "                (reverse answer)\n",
    "                (recur (rest a) (butlast b) (conj answer (last b)  (first a) ))\n",
    "            )\n",
    "        )\n",
    "    )\n",
    ")"
   ]
  },
  {
   "cell_type": "code",
   "execution_count": null,
   "id": "463b2ba3",
   "metadata": {},
   "outputs": [],
   "source": []
  }
 ],
 "metadata": {
  "kernelspec": {
   "display_name": "Clojure (clojupyter=0.3.2=1)",
   "language": "clojure",
   "name": "conda-clojupyter"
  },
  "language_info": {
   "file_extension": ".clj",
   "mimetype": "text/x-clojure",
   "name": "clojure",
   "version": "1.10.1"
  }
 },
 "nbformat": 4,
 "nbformat_minor": 5
}
