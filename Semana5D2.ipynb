{
 "cells": [
  {
   "cell_type": "markdown",
   "id": "f13c9f8d",
   "metadata": {},
   "source": [
    "# Eric Andrés Jardón Chao A01376748\n",
    "# Bryan Alexis Monroy Alvarez A01026848\n",
    "# Ricardo López Canales A01422699\n",
    "# Georgina Alejandra Gámez Melgar A01656818"
   ]
  },
  {
   "cell_type": "code",
   "execution_count": 1,
   "id": "5ecaec44",
   "metadata": {},
   "outputs": [
    {
     "data": {
      "text/plain": [
       "#'user/mulRecur"
      ]
     },
     "execution_count": 1,
     "metadata": {},
     "output_type": "execute_result"
    }
   ],
   "source": [
    ";;a\n",
    "(defn mulRecur [x] \n",
    "        (if (= x 5 )\n",
    "        (* x (+ x 1))\n",
    "        (+ (* x (+ x 1)) ( mulRecur (+ x 1) )) \n",
    "        )\n",
    ")"
   ]
  },
  {
   "cell_type": "code",
   "execution_count": 2,
   "id": "8fb23612",
   "metadata": {},
   "outputs": [
    {
     "data": {
      "text/plain": [
       "70"
      ]
     },
     "execution_count": 2,
     "metadata": {},
     "output_type": "execute_result"
    }
   ],
   "source": [
    "(mulRecur 1)"
   ]
  },
  {
   "cell_type": "code",
   "execution_count": 49,
   "id": "9451cd36",
   "metadata": {},
   "outputs": [
    {
     "data": {
      "text/plain": [
       "15"
      ]
     },
     "execution_count": 49,
     "metadata": {},
     "output_type": "execute_result"
    }
   ],
   "source": [
    "(loop [x 3 y 1]\n",
    "    (if (= x 0)\n",
    "        y\n",
    "        (recur \n",
    "             (dec x) \n",
    "             (+ y (reduce * (repeat x 2)))\n",
    "        )\n",
    "    )\n",
    ")"
   ]
  },
  {
   "cell_type": "markdown",
   "id": "6b883462",
   "metadata": {},
   "source": [
    "## Threading macros"
   ]
  },
  {
   "cell_type": "code",
   "execution_count": 37,
   "id": "330d99c3",
   "metadata": {},
   "outputs": [
    {
     "data": {
      "text/plain": [
       "385"
      ]
     },
     "execution_count": 37,
     "metadata": {},
     "output_type": "execute_result"
    }
   ],
   "source": [
    "(->> \n",
    "    (range 11)\n",
    "    (map #(* % %))\n",
    "    (reduce +)\n",
    ")"
   ]
  },
  {
   "cell_type": "code",
   "execution_count": 47,
   "id": "f1164e67",
   "metadata": {},
   "outputs": [
    {
     "data": {
      "text/plain": [
       "#'user/tMacro"
      ]
     },
     "execution_count": 47,
     "metadata": {},
     "output_type": "execute_result"
    }
   ],
   "source": [
    "(defn tMacro [n x]\n",
    "    (-> +\n",
    "        (reduce \n",
    "            (-> #(/ % n)\n",
    "                (map x)   \n",
    "            )\n",
    "         )\n",
    "    )\n",
    "            \n",
    ")"
   ]
  },
  {
   "cell_type": "code",
   "execution_count": 48,
   "id": "fcded8af",
   "metadata": {},
   "outputs": [
    {
     "data": {
      "text/plain": [
       "3N"
      ]
     },
     "execution_count": 48,
     "metadata": {},
     "output_type": "execute_result"
    }
   ],
   "source": [
    "(tMacro 5 '(1 2 3 4 5))"
   ]
  },
  {
   "cell_type": "code",
   "execution_count": null,
   "id": "05f10c09",
   "metadata": {},
   "outputs": [],
   "source": []
  }
 ],
 "metadata": {
  "kernelspec": {
   "display_name": "Clojure (clojupyter=0.3.2=1)",
   "language": "clojure",
   "name": "conda-clojupyter"
  },
  "language_info": {
   "file_extension": ".clj",
   "mimetype": "text/x-clojure",
   "name": "clojure",
   "version": "1.10.1"
  }
 },
 "nbformat": 4,
 "nbformat_minor": 5
}
