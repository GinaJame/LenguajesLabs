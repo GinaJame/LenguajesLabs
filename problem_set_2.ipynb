{
 "cells": [
  {
   "cell_type": "markdown",
   "metadata": {},
   "source": [
    "# Problem Set #2\n",
    "\n",
    "## Tc2006 Programming Languages\n",
    "Agosto, 2021.\n",
    "\n",
    "_Authors of this notebook’s solution:_\n",
    "\n",
    "- _Student ID and Name:_\n",
    "- _Student ID and Name:_\n",
    "- _Student ID and Name:_\n",
    "\n",
    "**Instructions:** Write the Clojure code to solve the following problems. Make sure each function passes all the unit tests.\n"
   ]
  },
  {
   "cell_type": "code",
   "execution_count": null,
   "metadata": {},
   "outputs": [],
   "source": [
    ";; External functions required for this notebook.\n",
    "(require '[clojure.test :refer [is]])\n",
    "(require '[cemerick.pomegranate :refer [add-dependencies]])\n",
    "(add-dependencies :coordinates '[[org.clojure/math.numeric-tower \"0.0.4\"]])\n",
    "(require '[clojure.math.numeric-tower :refer [sqrt expt]])"
   ]
  },
  {
   "cell_type": "markdown",
   "metadata": {},
   "source": [
    "---\n",
    "## Problem 1\n",
    "\n",
    "Write a function called `gibibytes->bytes` that takes a number of _gibibytes_ and returns its corresponding conversion to bytes.\n",
    "\n",
    "Remember that:\n",
    "\n",
    "- 1 kB (kibibyte) = $2^{10}$ bytes = 1,024 bytes\n",
    "- 1 MB (mebibyte) = $2^{20}$ bytes = 1,024 kibibytes\n",
    "- 1 GB (gibibyte) = $2^{30}$ bytes = 1,024 mebibytes"
   ]
  },
  {
   "cell_type": "code",
   "execution_count": null,
   "metadata": {},
   "outputs": [],
   "source": [
    "(defn gibibytes->bytes [gibibytes]\n",
    "  ;; your code goes here\n",
    "  nil)"
   ]
  },
  {
   "cell_type": "code",
   "execution_count": null,
   "metadata": {},
   "outputs": [],
   "source": [
    ";; Unit tests:\n",
    "(is (= 0 (gibibytes->bytes 0)))\n",
    "(is (= 1073741824 (gibibytes->bytes 1)))\n",
    "(is (= 5368709120 (gibibytes->bytes 5)))\n",
    "(is (= 26415122612224 (gibibytes->bytes 24601)))"
   ]
  },
  {
   "cell_type": "markdown",
   "metadata": {},
   "source": [
    "---\n",
    "## Problem 2\n",
    "\n",
    "Write a function called `fahrenheit->celsius` that takes a temperature $F$ in degrees Fahrenheit and converts it to degrees Celsius.\n",
    "\n",
    "**TIP:** If $F$ is a temperature in degrees Fahrenheit, to convert it to $C$ degrees Celsius we must use the following formula: \n",
    "\n",
    "$$\n",
    "C = \\frac{5 (F - 32)}{9}\n",
    "$$"
   ]
  },
  {
   "cell_type": "code",
   "execution_count": null,
   "metadata": {},
   "outputs": [],
   "source": [
    "(defn fahrenheit->celsius [f]\n",
    "  ;; your code goes here\n",
    "  nil)"
   ]
  },
  {
   "cell_type": "code",
   "execution_count": null,
   "metadata": {},
   "outputs": [],
   "source": [
    ";; Unit tests:\n",
    "(is (= 100.0 (fahrenheit->celsius 212.0)))\n",
    "(is (= 0.0 (fahrenheit->celsius 32.0)))\n",
    "(is (= -40.0 (fahrenheit->celsius -40.0)))"
   ]
  },
  {
   "cell_type": "markdown",
   "metadata": {},
   "source": [
    "---\n",
    "## Problem 3\n",
    "\n",
    "Write a function called `sign` that takes an integer value $n$. It returns $-1$ if $n$ is negative, 1 if $n$ is positive greater than zero, or 0 if $n$ is zero. "
   ]
  },
  {
   "cell_type": "code",
   "execution_count": null,
   "metadata": {},
   "outputs": [],
   "source": [
    "(defn sign [n]\n",
    "  ;; your code goes here\n",
    "  nil)"
   ]
  },
  {
   "cell_type": "code",
   "execution_count": null,
   "metadata": {},
   "outputs": [],
   "source": [
    ";; Unit tests:\n",
    "(is (= -1 (sign -5)))\n",
    "(is (= 1 (sign 10)))\n",
    "(is (= 0 (sign 0)))"
   ]
  },
  {
   "cell_type": "markdown",
   "metadata": {},
   "source": [
    "---\n",
    "## Problem 4\n",
    "\n",
    "Write a function called `roots` that returns a vector containing the two possible roots that solve a quadratic equation given its three coefficients ($a$, $b$, $c$) using the following formula: \n",
    "\n",
    "$$\n",
    "x=\\frac{-b\\pm \\sqrt{b^2-4ac}}{2a}\n",
    "$$\n",
    "\n",
    "**TIP:** To obtain the square root of a number, use the `sqrt` function defined in the `clojure.math.numeric-tower` namespace (this function was imported in the first cell of this notebook)."
   ]
  },
  {
   "cell_type": "code",
   "execution_count": null,
   "metadata": {},
   "outputs": [],
   "source": [
    "(defn roots [a b c]\n",
    "  ;; your code goes here\n",
    "  nil)"
   ]
  },
  {
   "cell_type": "code",
   "execution_count": null,
   "metadata": {},
   "outputs": [],
   "source": [
    ";; Unit tests\n",
    "(is (= [-1 -1] (roots 2 4 2)))\n",
    "(is (= [0 0] (roots 1 0 0)))\n",
    "(is (= [-1/4 -1] (roots 4 5 1)))"
   ]
  },
  {
   "cell_type": "markdown",
   "metadata": {},
   "source": [
    "---\n",
    "## Problem 5\n",
    "\n",
    "The $\\textit{BMI}$ (body mass index) is used to determine if a person's weight and height proportion is adequate. The $\\textit{BMI}$ may be calculated using the following formula:\n",
    "\n",
    "$$\n",
    "\\textit{BMI} = \\frac{\\textit{weight}}{\\textit{height}^2}\n",
    "$$\n",
    "\n",
    "Where $\\textit{weight}$ should be given in kilograms and $\\textit{height}$ in meters. The following table shows how different BMI ranges are classified: \n",
    "\n",
    "|BMI range    |Description|\n",
    "|:-----------:|:---------:|\n",
    "|BMI < 20     |underweight|\n",
    "|20 ≤ BMI < 25|normal     |\n",
    "|25 ≤ BMI < 30|obese1     |\n",
    "|30 ≤ BMI < 40|obese2     |\n",
    "|40 ≤ BMI     |obese3     |\n",
    "\n",
    "Write a function called `bmi` that takes two arguments: $\\textit{weight}$ and $\\textit{height}$. It should return a symbol that represents the corresponding BMI description computed from its input."
   ]
  },
  {
   "cell_type": "code",
   "execution_count": null,
   "metadata": {},
   "outputs": [],
   "source": [
    "(defn bmi\n",
    "  [weight height]\n",
    "  ;; you code goes here\n",
    "  nil)"
   ]
  },
  {
   "cell_type": "code",
   "execution_count": null,
   "metadata": {},
   "outputs": [],
   "source": [
    ";; Unit tests\n",
    "(is (= 'underweight (bmi 45 1.7)))\n",
    "(is (= 'normal (bmi 55 1.5)))\n",
    "(is (= 'obese1 (bmi 76 1.7)))\n",
    "(is (= 'obese2 (bmi 81 1.6)))\n",
    "(is (= 'obese3 (bmi 120 1.6)))"
   ]
  }
 ],
 "metadata": {
  "kernelspec": {
   "display_name": "Clojure (clojupyter=0.3.2=1)",
   "language": "clojure",
   "name": "conda-clojupyter"
  },
  "language_info": {
   "file_extension": ".clj",
   "mimetype": "text/x-clojure",
   "name": "clojure",
   "version": "1.10.1"
  }
 },
 "nbformat": 4,
 "nbformat_minor": 4
}
