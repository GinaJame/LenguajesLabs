{
 "cells": [
  {
   "cell_type": "code",
   "execution_count": 1,
   "id": "e11c9ff8",
   "metadata": {},
   "outputs": [],
   "source": [
    ";;comentarios"
   ]
  },
  {
   "cell_type": "code",
   "execution_count": 2,
   "id": "5db157a6",
   "metadata": {},
   "outputs": [
    {
     "data": {
      "text/plain": [
       "#'user/hola"
      ]
     },
     "execution_count": 2,
     "metadata": {},
     "output_type": "execute_result"
    }
   ],
   "source": [
    "(defn hola  \"esto es una función\" [] \"hola\")"
   ]
  },
  {
   "cell_type": "code",
   "execution_count": 4,
   "id": "06a83bbf",
   "metadata": {},
   "outputs": [
    {
     "data": {
      "text/plain": [
       "\"hola\""
      ]
     },
     "execution_count": 4,
     "metadata": {},
     "output_type": "execute_result"
    }
   ],
   "source": [
    "(hola)"
   ]
  },
  {
   "cell_type": "code",
   "execution_count": null,
   "id": "0ad0daf9",
   "metadata": {},
   "outputs": [],
   "source": []
  }
 ],
 "metadata": {
  "kernelspec": {
   "display_name": "Clojure (clojupyter=0.3.2=1)",
   "language": "clojure",
   "name": "conda-clojupyter"
  },
  "language_info": {
   "file_extension": ".clj",
   "mimetype": "text/x-clojure",
   "name": "clojure",
   "version": "1.10.1"
  }
 },
 "nbformat": 4,
 "nbformat_minor": 5
}
