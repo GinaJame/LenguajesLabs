{
 "cells": [
  {
   "cell_type": "code",
   "execution_count": 30,
   "id": "9f14dfe5",
   "metadata": {},
   "outputs": [
    {
     "data": {
      "text/plain": [
       "#'user/deficientes"
      ]
     },
     "execution_count": 30,
     "metadata": {},
     "output_type": "execute_result"
    }
   ],
   "source": [
    " \n",
    "(defn deficientes [n]\n",
    "    (if (< (apply + (filter #(= (rem n %) 0) (range 1 (+ (Math/ceil(/ n 2)) 1)))) n)\n",
    "        1\n",
    "        0)\n",
    ")"
   ]
  },
  {
   "cell_type": "code",
   "execution_count": 40,
   "id": "951bdace",
   "metadata": {},
   "outputs": [
    {
     "name": "stderr",
     "output_type": "stream",
     "text": [
      "*Interrupted*\n"
     ]
    },
    {
     "ename": "interrupted",
     "evalue": "",
     "output_type": "error",
     "traceback": [
      "(no stacktrace)"
     ]
    }
   ],
   "source": [
    "(deficientes 1000000000)"
   ]
  },
  {
   "cell_type": "code",
   "execution_count": 17,
   "id": "b1a1af77",
   "metadata": {},
   "outputs": [
    {
     "data": {
      "text/plain": [
       "2"
      ]
     },
     "execution_count": 17,
     "metadata": {},
     "output_type": "execute_result"
    }
   ],
   "source": [
    "(rem 2 3)"
   ]
  },
  {
   "cell_type": "code",
   "execution_count": 22,
   "id": "db51f0d1",
   "metadata": {},
   "outputs": [
    {
     "data": {
      "text/plain": [
       "(1 2 5)"
      ]
     },
     "execution_count": 22,
     "metadata": {},
     "output_type": "execute_result"
    }
   ],
   "source": [
    "(filter #(= (rem 10 %) 0) (range 1 (+ (Math/ceil(/ 10 2)) 1))) "
   ]
  },
  {
   "cell_type": "code",
   "execution_count": 53,
   "id": "185029e7",
   "metadata": {},
   "outputs": [
    {
     "data": {
      "text/plain": [
       "#'user/codificar"
      ]
     },
     "execution_count": 53,
     "metadata": {},
     "output_type": "execute_result"
    }
   ],
   "source": [
    "(defn codificar\n",
    "    [lst]\n",
    "    (loop [lst lst current (first lst) sum 0 answer ()]\n",
    "        (if (empty? lst)\n",
    "            (reverse (cons [sum current] answer))\n",
    "            (if (= current (first lst))\n",
    "                (recur (rest lst) current (inc sum) answer)\n",
    "                (recur (rest lst) (first lst) 1 (cons [sum current] answer))\n",
    "            )\n",
    "        )\n",
    "    )\n",
    ")"
   ]
  },
  {
   "cell_type": "code",
   "execution_count": 48,
   "id": "cce0bf22",
   "metadata": {},
   "outputs": [
    {
     "data": {
      "text/plain": [
       "()"
      ]
     },
     "execution_count": 48,
     "metadata": {},
     "output_type": "execute_result"
    }
   ],
   "source": [
    "(codificar ())"
   ]
  },
  {
   "cell_type": "code",
   "execution_count": 56,
   "id": "97e06a2c",
   "metadata": {},
   "outputs": [
    {
     "data": {
      "text/plain": [
       "([4 a] [1 b] [2 c] [2 a] [1 d] [4 e])"
      ]
     },
     "execution_count": 56,
     "metadata": {},
     "output_type": "execute_result"
    }
   ],
   "source": [
    "(codificar '(a a a a b c c a a d e e e e))"
   ]
  },
  {
   "cell_type": "code",
   "execution_count": null,
   "id": "66e0d826",
   "metadata": {},
   "outputs": [],
   "source": []
  },
  {
   "cell_type": "code",
   "execution_count": 57,
   "id": "47379d11",
   "metadata": {},
   "outputs": [
    {
     "data": {
      "text/plain": [
       "nil"
      ]
     },
     "execution_count": 57,
     "metadata": {},
     "output_type": "execute_result"
    }
   ],
   "source": [
    "(require '[clojure.test :refer [is]])"
   ]
  },
  {
   "cell_type": "code",
   "execution_count": 110,
   "id": "c3956fa0",
   "metadata": {},
   "outputs": [
    {
     "data": {
      "text/plain": [
       "#'user/tres"
      ]
     },
     "execution_count": 110,
     "metadata": {},
     "output_type": "execute_result"
    }
   ],
   "source": [
    "(defn tres [s lista]\n",
    "    (loop [primera () segunda lista opciones ()]\n",
    "        (if (empty? segunda)\n",
    "            (reverse (cons (concat primera (list s) segunda) opciones))\n",
    "            (recur (concat primera (list (first segunda))) (rest segunda) (cons (concat (concat primera (list s)) segunda) opciones))\n",
    "        )\n",
    "    )\n",
    ")"
   ]
  },
  {
   "cell_type": "code",
   "execution_count": 69,
   "id": "27697d1c",
   "metadata": {},
   "outputs": [
    {
     "data": {
      "text/plain": [
       "#'user/tres"
      ]
     },
     "execution_count": 69,
     "metadata": {},
     "output_type": "execute_result"
    }
   ],
   "source": [
    "(defn tres [s lista]\n",
    "    (loop [primera (list (first lista)) segunda (rest lista) opciones ()]\n",
    "        (if (empty? segunda)\n",
    "            opciones\n",
    "            (do\n",
    "                (println primera)\n",
    "                (recur (cons (first segunda) primera) (rest segunda) (cons \"hola\" opciones))\n",
    "            )\n",
    "        )\n",
    "    )\n",
    ")"
   ]
  },
  {
   "cell_type": "code",
   "execution_count": 111,
   "id": "08dd5399",
   "metadata": {},
   "outputs": [
    {
     "data": {
      "text/plain": [
       "((\"adios\" 1 2 3) (1 \"adios\" 2 3) (1 2 \"adios\" 3) (1 2 3 \"adios\"))"
      ]
     },
     "execution_count": 111,
     "metadata": {},
     "output_type": "execute_result"
    }
   ],
   "source": [
    "(tres \"adios\" '(1 2 3))"
   ]
  },
  {
   "cell_type": "code",
   "execution_count": 128,
   "id": "8eb1d01a",
   "metadata": {},
   "outputs": [
    {
     "data": {
      "text/plain": [
       "#'user/uno"
      ]
     },
     "execution_count": 128,
     "metadata": {},
     "output_type": "execute_result"
    }
   ],
   "source": [
    "(defn uno [x y lst]\n",
    "    (loop [x x y y lst lst respuesta ()]\n",
    "        (if (empty? list)\n",
    "            respuesta\n",
    "            (if (coll? (first lst))\n",
    "                (recur x y (rest lst) (cons '(\"gina\" \"dice\") respuesta))\n",
    "                (if (= (first lst) x)\n",
    "                    (recur x y (rest lst) (cons y respuesta))\n",
    "                    (if (= (first lst) y)\n",
    "                        (recur x y (rest lst) (cons x respuesta)) \n",
    "                        (recur x y (rest lst) (cons (first lst) respuesta)) \n",
    "                    )\n",
    "                ) \n",
    "            )\n",
    "        )\n",
    "        \n",
    "    )\n",
    ")"
   ]
  },
  {
   "cell_type": "code",
   "execution_count": null,
   "id": "29ee2f6a",
   "metadata": {},
   "outputs": [],
   "source": [
    "(defn- coll-or-scalar [x & _] (if (coll? x) :collection :scalar))\n",
    "(defmulti replace-symbol coll-or-scalar)\n",
    "(defmethod replace-symbol :collection [coll oldsym newsym]\n",
    "    (lazy-seq\n",
    "         (when (seq coll)\n",
    "             (cons (replace-symbol (first coll) oldsym newsym)\n",
    "                 (replace-symbol (rest coll) oldsym newsym)\n",
    "             )\n",
    "        )\n",
    "     )\n",
    ")\n",
    " (defmethod replace-symbol :scalar [obj oldsym newsym]\n",
    " (if (= obj oldsym) newsym obj))"
   ]
  },
  {
   "cell_type": "code",
   "execution_count": 129,
   "id": "4696de60",
   "metadata": {},
   "outputs": [
    {
     "name": "stderr",
     "output_type": "stream",
     "text": [
      "Execution error (IllegalArgumentException) at user/uno (REPL:3).\r\n",
      "Don't know how to create ISeq from: clojure.lang.PersistentList$Primordial\r\n"
     ]
    },
    {
     "ename": "class java.lang.IllegalArgumentException",
     "evalue": "",
     "output_type": "error",
     "traceback": [
      "    RT.java:   557 clojure.lang.RT/seqFrom",
      "    RT.java:   537 clojure.lang.RT/seq",
      "   core.clj:   137 clojure.core$seq__5402/invokeStatic",
      "   core.clj:  6206 clojure.core$empty_QMARK_/invokeStatic",
      "   core.clj:  3214 clojure.core$eval/invokeStatic",
      "   core.clj:  3210 clojure.core$eval/invoke",
      "   main.clj:   437 clojure.main$repl$read_eval_print__9086$fn__9089/invoke",
      "   main.clj:   458 clojure.main$repl$fn__9095/invoke",
      "   main.clj:   368 clojure.main$repl/doInvoke",
      "RestFn.java:  1523 clojure.lang.RestFn/invoke",
      "   AFn.java:    22 clojure.lang.AFn/run",
      "   AFn.java:    22 clojure.lang.AFn/run",
      "Thread.java:   745 java.lang.Thread/run"
     ]
    }
   ],
   "source": [
    "(uno 1 2 '(1 2 3 2 1))"
   ]
  },
  {
   "cell_type": "code",
   "execution_count": 126,
   "id": "9a817638",
   "metadata": {},
   "outputs": [
    {
     "name": "stderr",
     "output_type": "stream",
     "text": [
      "*Interrupted*\n"
     ]
    },
    {
     "ename": "interrupted",
     "evalue": "",
     "output_type": "error",
     "traceback": [
      "(no stacktrace)"
     ]
    }
   ],
   "source": [
    "(is (= '(5 6 7 9 (4) (4 100))  (uno 70 80 '(5 6 7 9 (4) (4 100)) )))"
   ]
  },
  {
   "cell_type": "code",
   "execution_count": 118,
   "id": "d19a1d7d",
   "metadata": {},
   "outputs": [
    {
     "name": "stdout",
     "output_type": "stream",
     "text": [
      "\n",
      "FAIL in () (NO_SOURCE_FILE:1)\n",
      "expected: (= (quote (5 1 2 9 (2 1) (9 1 10))) (uno 1 2 (quote (5 2 1 9 (1 2) (9 2 10)))))\n",
      "  actual: (not (= (5 1 2 9 (2 1) (9 1 10)) (5 1 2 9 (1 2) (9 2 10))))\n"
     ]
    },
    {
     "data": {
      "text/plain": [
       "false"
      ]
     },
     "execution_count": 118,
     "metadata": {},
     "output_type": "execute_result"
    }
   ],
   "source": [
    "(is (= '(5 1 2 9 (2 1) (9 1 10))  (uno 1 2 '(5 2 1 9 (1 2) (9 2 10)) )))"
   ]
  },
  {
   "cell_type": "code",
   "execution_count": 120,
   "id": "8c4414a6",
   "metadata": {},
   "outputs": [
    {
     "data": {
      "text/plain": [
       "(5 1 2 9 (1 2) (9 2 10))"
      ]
     },
     "execution_count": 120,
     "metadata": {},
     "output_type": "execute_result"
    }
   ],
   "source": [
    "(uno 1 2 '(5 2 1 9 (1 2) (9 2 10)) )"
   ]
  },
  {
   "cell_type": "code",
   "execution_count": 121,
   "id": "f71a7a2b",
   "metadata": {},
   "outputs": [
    {
     "data": {
      "text/plain": [
       "#'user/GCD"
      ]
     },
     "execution_count": 121,
     "metadata": {},
     "output_type": "execute_result"
    }
   ],
   "source": [
    "(defn gcd [a b]\n",
    "    (if (= a 0)\n",
    "        b\n",
    "        (recur (rem b a) a)\n",
    "    )\n",
    ")\n",
    "\n",
    "(defn GCD [a b]\n",
    "    (if (or (<= a 0) (<= b 0))\n",
    "        \"Cannot be processed\"\n",
    "        (gcd a b))\n",
    "    \n",
    ")"
   ]
  },
  {
   "cell_type": "code",
   "execution_count": null,
   "id": "4ae7b3e5",
   "metadata": {},
   "outputs": [],
   "source": []
  }
 ],
 "metadata": {
  "kernelspec": {
   "display_name": "Clojure (clojupyter=0.3.2=1)",
   "language": "clojure",
   "name": "conda-clojupyter"
  },
  "language_info": {
   "file_extension": ".clj",
   "mimetype": "text/x-clojure",
   "name": "clojure",
   "version": "1.10.1"
  }
 },
 "nbformat": 4,
 "nbformat_minor": 5
}
