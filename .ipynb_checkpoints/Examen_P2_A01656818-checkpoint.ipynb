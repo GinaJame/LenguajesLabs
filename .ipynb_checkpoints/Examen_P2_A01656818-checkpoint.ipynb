{
 "cells": [
  {
   "cell_type": "markdown",
   "id": "241542e5",
   "metadata": {},
   "source": [
    "# Georgina Gámez A01656818"
   ]
  },
  {
   "cell_type": "code",
   "execution_count": 38,
   "id": "88ac7aba",
   "metadata": {},
   "outputs": [
    {
     "data": {
      "text/plain": [
       "#'user/cerosfinales"
      ]
     },
     "execution_count": 38,
     "metadata": {},
     "output_type": "execute_result"
    }
   ],
   "source": [
    "(defn cerosfinales [n]\n",
    "    (if (< n 0)\n",
    "        \"usar números positivos\"\n",
    "        (loop [n (str (apply * (range 1 (+ n 1)))) cuenta 0]\n",
    "            (if (not (= (last n) \\0))\n",
    "                cuenta\n",
    "                (recur (butlast n) (inc cuenta))\n",
    "            )\n",
    "        )\n",
    "    )\n",
    ")"
   ]
  },
  {
   "cell_type": "code",
   "execution_count": 33,
   "id": "c20f9f9e",
   "metadata": {},
   "outputs": [
    {
     "data": {
      "text/plain": [
       "0"
      ]
     },
     "execution_count": 33,
     "metadata": {},
     "output_type": "execute_result"
    }
   ],
   "source": [
    "(cerosfinales 3)"
   ]
  },
  {
   "cell_type": "code",
   "execution_count": 34,
   "id": "34a0fb4c",
   "metadata": {},
   "outputs": [
    {
     "data": {
      "text/plain": [
       "1"
      ]
     },
     "execution_count": 34,
     "metadata": {},
     "output_type": "execute_result"
    }
   ],
   "source": [
    "(cerosfinales 8)"
   ]
  },
  {
   "cell_type": "code",
   "execution_count": 35,
   "id": "c774f203",
   "metadata": {},
   "outputs": [
    {
     "data": {
      "text/plain": [
       "2"
      ]
     },
     "execution_count": 35,
     "metadata": {},
     "output_type": "execute_result"
    }
   ],
   "source": [
    "(cerosfinales 10)"
   ]
  },
  {
   "cell_type": "code",
   "execution_count": 36,
   "id": "d0bccc66",
   "metadata": {},
   "outputs": [
    {
     "data": {
      "text/plain": [
       "0"
      ]
     },
     "execution_count": 36,
     "metadata": {},
     "output_type": "execute_result"
    }
   ],
   "source": [
    "(cerosfinales 0)"
   ]
  },
  {
   "cell_type": "code",
   "execution_count": null,
   "id": "574ee066",
   "metadata": {},
   "outputs": [],
   "source": []
  },
  {
   "cell_type": "code",
   "execution_count": null,
   "id": "c9f3275c",
   "metadata": {},
   "outputs": [],
   "source": []
  }
 ],
 "metadata": {
  "kernelspec": {
   "display_name": "Clojure (clojupyter=0.3.2=1)",
   "language": "clojure",
   "name": "conda-clojupyter"
  },
  "language_info": {
   "file_extension": ".clj",
   "mimetype": "text/x-clojure",
   "name": "clojure",
   "version": "1.10.1"
  }
 },
 "nbformat": 4,
 "nbformat_minor": 5
}
