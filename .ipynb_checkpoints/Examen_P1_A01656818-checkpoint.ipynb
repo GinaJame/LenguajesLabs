{
 "cells": [
  {
   "cell_type": "markdown",
   "id": "f2d401c3",
   "metadata": {},
   "source": [
    "# Georgina Gámez A01656818"
   ]
  },
  {
   "cell_type": "code",
   "execution_count": null,
   "id": "8886cc9d",
   "metadata": {},
   "outputs": [],
   "source": []
  },
  {
   "cell_type": "code",
   "execution_count": null,
   "id": "89f4f743",
   "metadata": {},
   "outputs": [],
   "source": []
  },
  {
   "cell_type": "code",
   "execution_count": 73,
   "id": "de9a2b1f",
   "metadata": {},
   "outputs": [
    {
     "data": {
      "text/plain": [
       "#'user/intercalar-recursive"
      ]
     },
     "execution_count": 73,
     "metadata": {},
     "output_type": "execute_result"
    }
   ],
   "source": [
    "(defn intercalar-recursive [a b]\n",
    "    (loop [a a b b answer ()]\n",
    "        (if (empty? a)\n",
    "            (reverse answer)\n",
    "            (if (empty? b)\n",
    "                (reverse answer)\n",
    "                (recur (rest a) (take (- (count b) 1) b) (conj answer (nth b (- (count b) 1))  (first a) ))\n",
    "            )\n",
    "        )\n",
    "    )\n",
    ")"
   ]
  },
  {
   "cell_type": "code",
   "execution_count": 74,
   "id": "8eae3464",
   "metadata": {},
   "outputs": [
    {
     "data": {
      "text/plain": [
       "(70 8 30 9 20 0)"
      ]
     },
     "execution_count": 74,
     "metadata": {},
     "output_type": "execute_result"
    }
   ],
   "source": [
    "(intercalar-recursive [8 9 0] [ 20 30 70 ])"
   ]
  },
  {
   "cell_type": "code",
   "execution_count": 75,
   "id": "e6ed0bc6",
   "metadata": {},
   "outputs": [
    {
     "data": {
      "text/plain": [
       "(20 8)"
      ]
     },
     "execution_count": 75,
     "metadata": {},
     "output_type": "execute_result"
    }
   ],
   "source": [
    "(intercalar-recursive [8 9 0] [ 20 ])"
   ]
  },
  {
   "cell_type": "code",
   "execution_count": null,
   "id": "1741130d",
   "metadata": {},
   "outputs": [],
   "source": []
  },
  {
   "cell_type": "code",
   "execution_count": null,
   "id": "fee52840",
   "metadata": {},
   "outputs": [],
   "source": []
  },
  {
   "cell_type": "code",
   "execution_count": null,
   "id": "2b8b6fb5",
   "metadata": {},
   "outputs": [],
   "source": []
  },
  {
   "cell_type": "code",
   "execution_count": null,
   "id": "838f82a0",
   "metadata": {},
   "outputs": [],
   "source": []
  }
 ],
 "metadata": {
  "kernelspec": {
   "display_name": "Clojure (clojupyter=0.3.2=1)",
   "language": "clojure",
   "name": "conda-clojupyter"
  },
  "language_info": {
   "file_extension": ".clj",
   "mimetype": "text/x-clojure",
   "name": "clojure",
   "version": "1.10.1"
  }
 },
 "nbformat": 4,
 "nbformat_minor": 5
}
