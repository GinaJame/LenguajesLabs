{
 "cells": [
  {
   "cell_type": "code",
   "execution_count": 5,
   "id": "c2bdeb49",
   "metadata": {},
   "outputs": [
    {
     "data": {
      "text/plain": [
       "#'user/sumaR"
      ]
     },
     "execution_count": 5,
     "metadata": {},
     "output_type": "execute_result"
    }
   ],
   "source": [
    "(defn sumaR [x y]\n",
    "    (apply + (range x (+ y 1))))"
   ]
  },
  {
   "cell_type": "code",
   "execution_count": 7,
   "id": "b227e0e2",
   "metadata": {},
   "outputs": [
    {
     "data": {
      "text/plain": [
       "6"
      ]
     },
     "execution_count": 7,
     "metadata": {},
     "output_type": "execute_result"
    }
   ],
   "source": [
    "(sumaR 1 3)"
   ]
  },
  {
   "cell_type": "code",
   "execution_count": 11,
   "id": "f8e8831e",
   "metadata": {},
   "outputs": [
    {
     "data": {
      "text/plain": [
       "#'user/pot"
      ]
     },
     "execution_count": 11,
     "metadata": {},
     "output_type": "execute_result"
    }
   ],
   "source": [
    "(defn pot [x] (take x (iterate #(* % 2) 1)))"
   ]
  },
  {
   "cell_type": "code",
   "execution_count": 12,
   "id": "a8cad2b2",
   "metadata": {},
   "outputs": [
    {
     "data": {
      "text/plain": [
       "(1 2 4 8 16)"
      ]
     },
     "execution_count": 12,
     "metadata": {},
     "output_type": "execute_result"
    }
   ],
   "source": [
    "(pot 5)"
   ]
  },
  {
   "cell_type": "code",
   "execution_count": 24,
   "id": "c0ef1bdf",
   "metadata": {},
   "outputs": [
    {
     "data": {
      "text/plain": [
       "#'user/vowel?"
      ]
     },
     "execution_count": 24,
     "metadata": {},
     "output_type": "execute_result"
    }
   ],
   "source": [
    "(def vowel? #{\\a\\e\\i\\o\\u\\A\\E\\I\\O\\U\\space})"
   ]
  },
  {
   "cell_type": "code",
   "execution_count": 25,
   "id": "42c6fde8",
   "metadata": {},
   "outputs": [
    {
     "data": {
      "text/plain": [
       "#'user/consonant?"
      ]
     },
     "execution_count": 25,
     "metadata": {},
     "output_type": "execute_result"
    }
   ],
   "source": [
    "(def consonant? (complement vowel?))"
   ]
  },
  {
   "cell_type": "code",
   "execution_count": null,
   "id": "65ccc373",
   "metadata": {},
   "outputs": [],
   "source": []
  },
  {
   "cell_type": "code",
   "execution_count": 26,
   "id": "72eff073",
   "metadata": {},
   "outputs": [
    {
     "data": {
      "text/plain": [
       "#'user/vowelnt"
      ]
     },
     "execution_count": 26,
     "metadata": {},
     "output_type": "execute_result"
    }
   ],
   "source": [
    "(defn vowelnt [x] \n",
    "    (seq x)\n",
    "    (filter consonant? x))"
   ]
  },
  {
   "cell_type": "code",
   "execution_count": 27,
   "id": "13947b90",
   "metadata": {},
   "outputs": [
    {
     "data": {
      "text/plain": [
       "(\\r \\c \\t \\d)"
      ]
     },
     "execution_count": 27,
     "metadata": {},
     "output_type": "execute_result"
    }
   ],
   "source": [
    "(vowelnt \"eric te odio\")"
   ]
  },
  {
   "cell_type": "code",
   "execution_count": null,
   "id": "a774535c",
   "metadata": {},
   "outputs": [],
   "source": [
    "(take 12 (iterate #(/ 1 %) 1))"
   ]
  },
  {
   "cell_type": "code",
   "execution_count": null,
   "id": "434f5a15",
   "metadata": {},
   "outputs": [],
   "source": [
    "(take 10 (iterate #(/ 1 %) 1))"
   ]
  }
 ],
 "metadata": {
  "kernelspec": {
   "display_name": "Clojure (clojupyter=0.3.2=1)",
   "language": "clojure",
   "name": "conda-clojupyter"
  },
  "language_info": {
   "file_extension": ".clj",
   "mimetype": "text/x-clojure",
   "name": "clojure",
   "version": "1.10.1"
  }
 },
 "nbformat": 4,
 "nbformat_minor": 5
}
