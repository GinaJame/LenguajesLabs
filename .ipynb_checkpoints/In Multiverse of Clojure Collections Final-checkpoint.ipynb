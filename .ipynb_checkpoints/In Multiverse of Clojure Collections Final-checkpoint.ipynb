{
 "cells": [
  {
   "cell_type": "markdown",
   "id": "e7bf3ffa",
   "metadata": {},
   "source": [
    "# IN MULTIVERSE OF CLOJURE COLLECTIONS:\n",
    "\n",
    "---\n",
    "\n",
    "- _Student ID and Name:_ A01026848 Bryan Alexis Monroy Álvarez\n",
    "- _Student ID and Name:_ A0656818 Georgina Alejandra Gámez Melgar\n",
    "- _Student ID and Name:_ A01376748 Eric Andrés Jardón Chao\n",
    "\n",
    "---\n"
   ]
  },
  {
   "cell_type": "code",
   "execution_count": null,
   "id": "f474b715",
   "metadata": {},
   "outputs": [],
   "source": [
    ";; 1 martes Escribe una función que tome dos entradas y devuelva la suma de los números en un rango entre dos números enteros de entrada, incluidos los dos números de entrada.\n"
   ]
  },
  {
   "cell_type": "code",
   "execution_count": 17,
   "id": "69c8d282",
   "metadata": {},
   "outputs": [
    {
     "data": {
      "text/plain": [
       "#'user/sumRange"
      ]
     },
     "execution_count": 17,
     "metadata": {},
     "output_type": "execute_result"
    }
   ],
   "source": [
    "(defn sumRange [x y]\n",
    "    (apply + (range x (+ y 1))))\n"
   ]
  },
  {
   "cell_type": "code",
   "execution_count": 18,
   "id": "f18afcbb",
   "metadata": {},
   "outputs": [
    {
     "data": {
      "text/plain": [
       "18"
      ]
     },
     "execution_count": 18,
     "metadata": {},
     "output_type": "execute_result"
    }
   ],
   "source": [
    "(sumRange 3 6)"
   ]
  },
  {
   "cell_type": "code",
   "execution_count": null,
   "id": "10573a16",
   "metadata": {},
   "outputs": [],
   "source": [
    ";; 2 martes Escribe una función que produzca una secuencia de potencias de 2:"
   ]
  },
  {
   "cell_type": "code",
   "execution_count": 2,
   "id": "0ba139f9",
   "metadata": {},
   "outputs": [
    {
     "data": {
      "text/plain": [
       "#'user/powers2"
      ]
     },
     "execution_count": 2,
     "metadata": {},
     "output_type": "execute_result"
    }
   ],
   "source": [
    "(defn powers2 [x] (take x (iterate #(* % 2) 1)))\n"
   ]
  },
  {
   "cell_type": "code",
   "execution_count": 19,
   "id": "c82fccd6",
   "metadata": {},
   "outputs": [
    {
     "data": {
      "text/plain": [
       "(1 2 4 8 16)"
      ]
     },
     "execution_count": 19,
     "metadata": {},
     "output_type": "execute_result"
    }
   ],
   "source": [
    "(powers2 5)"
   ]
  },
  {
   "cell_type": "code",
   "execution_count": null,
   "id": "475d9f94",
   "metadata": {},
   "outputs": [],
   "source": [
    ";; 3 martes  Escribe una función que tome una cadena y produzca una secuencia de caracteres sin vocales.\n"
   ]
  },
  {
   "cell_type": "code",
   "execution_count": 4,
   "id": "f9299cee",
   "metadata": {},
   "outputs": [
    {
     "data": {
      "text/plain": [
       "#'user/consonant?"
      ]
     },
     "execution_count": 4,
     "metadata": {},
     "output_type": "execute_result"
    }
   ],
   "source": [
    "(def vowel? #{\\a\\e\\i\\o\\u\\A\\E\\I\\O\\U})\n",
    "(def consonant? (complement vowel?))\n"
   ]
  },
  {
   "cell_type": "code",
   "execution_count": 6,
   "id": "9390ff42",
   "metadata": {},
   "outputs": [
    {
     "data": {
      "text/plain": [
       "#'user/vowelnt"
      ]
     },
     "execution_count": 6,
     "metadata": {},
     "output_type": "execute_result"
    }
   ],
   "source": [
    "(defn vowelnt [x] \n",
    "    (filter consonant? x))\n"
   ]
  },
  {
   "cell_type": "code",
   "execution_count": 22,
   "id": "a8729b67",
   "metadata": {},
   "outputs": [
    {
     "data": {
      "text/plain": [
       "(\\H \\l \\l \\space \\c \\l \\j \\r)"
      ]
     },
     "execution_count": 22,
     "metadata": {},
     "output_type": "execute_result"
    }
   ],
   "source": [
    "(vowelnt \"Hello clojure\") "
   ]
  },
  {
   "cell_type": "code",
   "execution_count": null,
   "id": "860a6bb0",
   "metadata": {},
   "outputs": [],
   "source": [
    ";; 4 martes Escribe una función que produzca una secuencia:(1 ½ ¼ ⅛…)"
   ]
  },
  {
   "cell_type": "code",
   "execution_count": 7,
   "id": "b4f73d21",
   "metadata": {},
   "outputs": [
    {
     "data": {
      "text/plain": [
       "#'user/div"
      ]
     },
     "execution_count": 7,
     "metadata": {},
     "output_type": "execute_result"
    }
   ],
   "source": [
    "(defn div [x] (take x (iterate #(/ % 2) 1)))\n"
   ]
  },
  {
   "cell_type": "code",
   "execution_count": 23,
   "id": "ea34119d",
   "metadata": {},
   "outputs": [
    {
     "data": {
      "text/plain": [
       "(1 1/2 1/4 1/8 1/16 1/32 1/64 1/128 1/256 1/512)"
      ]
     },
     "execution_count": 23,
     "metadata": {},
     "output_type": "execute_result"
    }
   ],
   "source": [
    "(div 10)"
   ]
  },
  {
   "cell_type": "code",
   "execution_count": null,
   "id": "8dd64aae",
   "metadata": {},
   "outputs": [],
   "source": [
    ";; 5 martes  Escribe una función que produzca una secuencia: (1 ½ ⅓ ¼…)"
   ]
  },
  {
   "cell_type": "code",
   "execution_count": 8,
   "id": "2e9c7bb4",
   "metadata": {},
   "outputs": [
    {
     "data": {
      "text/plain": [
       "#'user/div2"
      ]
     },
     "execution_count": 8,
     "metadata": {},
     "output_type": "execute_result"
    }
   ],
   "source": [
    "(defn div2 [x] (take x (map #(/ 1 %) (range 1 (+ x 1)))))\n"
   ]
  },
  {
   "cell_type": "code",
   "execution_count": 24,
   "id": "8d4b5965",
   "metadata": {},
   "outputs": [
    {
     "data": {
      "text/plain": [
       "(1 1/2 1/3 1/4 1/5 1/6)"
      ]
     },
     "execution_count": 24,
     "metadata": {},
     "output_type": "execute_result"
    }
   ],
   "source": [
    "(div2 6)"
   ]
  },
  {
   "cell_type": "code",
   "execution_count": null,
   "id": "66707b72",
   "metadata": {},
   "outputs": [],
   "source": [
    ";; 6 martes Escribe una función que produzca la secuencia de Fibonacci (1 1 2 3 5 8 13 21)"
   ]
  },
  {
   "cell_type": "code",
   "execution_count": 12,
   "id": "7a70870c",
   "metadata": {},
   "outputs": [
    {
     "data": {
      "text/plain": [
       "#'user/fibonacci"
      ]
     },
     "execution_count": 12,
     "metadata": {},
     "output_type": "execute_result"
    }
   ],
   "source": [
    "(defn fibonacci [n] \n",
    "(defn fibo\n",
    "    ([]\n",
    "         (concat [1 1] ( fibo 1 1))\n",
    "    )\n",
    "     ([a b]\n",
    "         (let [n (+ a b)]\n",
    "             (lazy-seq (cons n (fibo b n)))\n",
    "         )\n",
    "      )\n",
    ")\n",
    "    (take n (fibo))\n",
    ")\n"
   ]
  },
  {
   "cell_type": "code",
   "execution_count": 26,
   "id": "c62e3c9e",
   "metadata": {},
   "outputs": [
    {
     "data": {
      "text/plain": [
       "(1 1 2 3 5 8 13 21 34 55)"
      ]
     },
     "execution_count": 26,
     "metadata": {},
     "output_type": "execute_result"
    }
   ],
   "source": [
    "(fibonacci 10)"
   ]
  },
  {
   "cell_type": "code",
   "execution_count": null,
   "id": "1e8fe9f1",
   "metadata": {},
   "outputs": [],
   "source": [
    ";; Escribe una función ‘positivos’ que toma una lista de números lst como entrada y devuelve una nueva lista que solo contiene los números positivos de lst."
   ]
  },
  {
   "cell_type": "code",
   "execution_count": 16,
   "id": "ab33dff3",
   "metadata": {},
   "outputs": [
    {
     "data": {
      "text/plain": [
       "#'user/positivos"
      ]
     },
     "execution_count": 16,
     "metadata": {},
     "output_type": "execute_result"
    }
   ],
   "source": [
    "(defn positivos [lst] (filter pos-int? lst))\n"
   ]
  },
  {
   "cell_type": "code",
   "execution_count": 27,
   "id": "70a3c942",
   "metadata": {},
   "outputs": [
    {
     "data": {
      "text/plain": [
       "(6 3 9 8 7 4)"
      ]
     },
     "execution_count": 27,
     "metadata": {},
     "output_type": "execute_result"
    }
   ],
   "source": [
    "(positivos '(-5 6 -4 3 9 8 7 -15 4))"
   ]
  },
  {
   "cell_type": "code",
   "execution_count": null,
   "id": "b6079f9d",
   "metadata": {},
   "outputs": [],
   "source": [
    ";; Escribe una función que tome dos entradas y devuelva la suma de los números en un rango entre dos números enteros de entrada, NO incluidos los dos números de entrada."
   ]
  },
  {
   "cell_type": "code",
   "execution_count": 3,
   "id": "2da03924",
   "metadata": {},
   "outputs": [
    {
     "data": {
      "text/plain": [
       "#'user/sumaR"
      ]
     },
     "execution_count": 3,
     "metadata": {},
     "output_type": "execute_result"
    }
   ],
   "source": [
    "(defn sumaR [x y]\n",
    "    (apply + (range (+ x 1) y)))\n"
   ]
  },
  {
   "cell_type": "code",
   "execution_count": 4,
   "id": "2f8a2f03",
   "metadata": {},
   "outputs": [
    {
     "data": {
      "text/plain": [
       "21"
      ]
     },
     "execution_count": 4,
     "metadata": {},
     "output_type": "execute_result"
    }
   ],
   "source": [
    "(sumaR 5 9)"
   ]
  },
  {
   "cell_type": "code",
   "execution_count": null,
   "id": "b71f79cd",
   "metadata": {},
   "outputs": [],
   "source": [
    ";; Escribe la función ‘pow’ que toma dos entradas: un número a y un entero positivo b. Devuelve el resultado de calcular a elevado a la potencia b."
   ]
  },
  {
   "cell_type": "code",
   "execution_count": 14,
   "id": "847baa58",
   "metadata": {},
   "outputs": [
    {
     "data": {
      "text/plain": [
       "#'user/pow"
      ]
     },
     "execution_count": 14,
     "metadata": {},
     "output_type": "execute_result"
    }
   ],
   "source": [
    "(defn pow [a b]\n",
    "  (reduce * (repeat b a)\n",
    "))\n"
   ]
  },
  {
   "cell_type": "code",
   "execution_count": 30,
   "id": "233fe917",
   "metadata": {},
   "outputs": [
    {
     "data": {
      "text/plain": [
       "125"
      ]
     },
     "execution_count": 30,
     "metadata": {},
     "output_type": "execute_result"
    }
   ],
   "source": [
    "(pow 5 3)"
   ]
  },
  {
   "cell_type": "code",
   "execution_count": null,
   "id": "d3667843",
   "metadata": {},
   "outputs": [],
   "source": [
    ";; función con sumatoria "
   ]
  },
  {
   "cell_type": "code",
   "execution_count": 31,
   "id": "91aacf0f",
   "metadata": {},
   "outputs": [
    {
     "data": {
      "text/plain": [
       "#'user/f"
      ]
     },
     "execution_count": 31,
     "metadata": {},
     "output_type": "execute_result"
    }
   ],
   "source": [
    "(defn f [n] \n",
    "    (defn ratios [n] (map #(/ n %) (range 1 (+ n 1))))\n",
    "    (double (reduce + (ratios n))))"
   ]
  },
  {
   "cell_type": "code",
   "execution_count": 32,
   "id": "857d14cf",
   "metadata": {},
   "outputs": [
    {
     "data": {
      "text/plain": [
       "1175.606189624289"
      ]
     },
     "execution_count": 32,
     "metadata": {},
     "output_type": "execute_result"
    }
   ],
   "source": [
    "(f 200)"
   ]
  },
  {
   "cell_type": "code",
   "execution_count": null,
   "id": "a15b1cff",
   "metadata": {},
   "outputs": [],
   "source": []
  }
 ],
 "metadata": {
  "kernelspec": {
   "display_name": "Clojure (clojupyter=0.3.2=1)",
   "language": "clojure",
   "name": "conda-clojupyter"
  },
  "language_info": {
   "file_extension": ".clj",
   "mimetype": "text/x-clojure",
   "name": "clojure",
   "version": "1.10.1"
  }
 },
 "nbformat": 4,
 "nbformat_minor": 5
}
