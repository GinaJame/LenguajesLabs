{
 "cells": [
  {
   "cell_type": "code",
   "execution_count": 5,
   "id": "bf758a06",
   "metadata": {},
   "outputs": [
    {
     "data": {
      "text/plain": [
       "#'user/numeros"
      ]
     },
     "execution_count": 5,
     "metadata": {},
     "output_type": "execute_result"
    }
   ],
   "source": [
    "(defn numeros[unNumero]        \n",
    "    \n",
    "    (cons unNumero ( lazy-seq (numeros unNumero ) ) )       )"
   ]
  },
  {
   "cell_type": "code",
   "execution_count": 6,
   "id": "b57927ba",
   "metadata": {},
   "outputs": [
    {
     "data": {
      "text/plain": [
       "(4 4 4 4 4 4 4 4 4 4)"
      ]
     },
     "execution_count": 6,
     "metadata": {},
     "output_type": "execute_result"
    }
   ],
   "source": [
    "(take 10 (numeros 4))"
   ]
  },
  {
   "cell_type": "code",
   "execution_count": 9,
   "id": "d54e1a5a",
   "metadata": {},
   "outputs": [
    {
     "data": {
      "text/plain": [
       "#'user/pares"
      ]
     },
     "execution_count": 9,
     "metadata": {},
     "output_type": "execute_result"
    }
   ],
   "source": [
    "(defn pares[unNumero]        \n",
    "    \n",
    "    (cons unNumero ( lazy-seq (if (= (rem unNumero 2) 0) (pares (+ unNumero 2 ) ) (pares (+ unNumero 1 )) ) )       ))"
   ]
  },
  {
   "cell_type": "code",
   "execution_count": 11,
   "id": "c38ffdd2",
   "metadata": {},
   "outputs": [
    {
     "data": {
      "text/plain": [
       "(21 22 24 26 28 30 32 34 36 38)"
      ]
     },
     "execution_count": 11,
     "metadata": {},
     "output_type": "execute_result"
    }
   ],
   "source": [
    "(take 10 (pares 21))"
   ]
  },
  {
   "cell_type": "code",
   "execution_count": 19,
   "id": "443f0f1a",
   "metadata": {},
   "outputs": [
    {
     "data": {
      "text/plain": [
       "#'user/negative-numbers"
      ]
     },
     "execution_count": 19,
     "metadata": {},
     "output_type": "execute_result"
    }
   ],
   "source": [
    "; Crea una secuencia floja de números negativos infinitamente\n",
    "(defn negative-numbers\n",
    "    ([] (negative-numbers -1))\n",
    "    ([n] (lazy-seq (cons n (negative-numbers (dec n))))))\n",
    "\n"
   ]
  },
  {
   "cell_type": "code",
   "execution_count": 18,
   "id": "18f1ec3d",
   "metadata": {},
   "outputs": [
    {
     "data": {
      "text/plain": [
       "(5 -1 -1 -1 -1 -1 -1 -1 -1 -1)"
      ]
     },
     "execution_count": 18,
     "metadata": {},
     "output_type": "execute_result"
    }
   ],
   "source": [
    "(take 10 (negative-numbers 5))"
   ]
  },
  {
   "cell_type": "code",
   "execution_count": null,
   "id": "13c8def9",
   "metadata": {},
   "outputs": [],
   "source": [
    "(defn rep [unNumero, sequenc]        \n",
    "    \n",
    "    (cons unNumero ( lazy-seq (numeros unNumero ) ) )       )"
   ]
  }
 ],
 "metadata": {
  "kernelspec": {
   "display_name": "Clojure (clojupyter=0.3.2=1)",
   "language": "clojure",
   "name": "conda-clojupyter"
  },
  "language_info": {
   "file_extension": ".clj",
   "mimetype": "text/x-clojure",
   "name": "clojure",
   "version": "1.10.1"
  }
 },
 "nbformat": 4,
 "nbformat_minor": 5
}
