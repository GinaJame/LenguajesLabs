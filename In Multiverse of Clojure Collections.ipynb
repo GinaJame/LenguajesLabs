{
 "cells": [
  {
   "cell_type": "code",
   "execution_count": 1,
   "id": "c2bdeb49",
   "metadata": {},
   "outputs": [
    {
     "data": {
      "text/plain": [
       "#'user/sumaR"
      ]
     },
     "execution_count": 1,
     "metadata": {},
     "output_type": "execute_result"
    }
   ],
   "source": [
    "(defn sumaR [x y]\n",
    "    (apply + (range (+ x 1) y)))"
   ]
  },
  {
   "cell_type": "code",
   "execution_count": 3,
   "id": "b227e0e2",
   "metadata": {},
   "outputs": [
    {
     "data": {
      "text/plain": [
       "5"
      ]
     },
     "execution_count": 3,
     "metadata": {},
     "output_type": "execute_result"
    }
   ],
   "source": [
    "(sumaR 1 4)"
   ]
  },
  {
   "cell_type": "code",
   "execution_count": 11,
   "id": "f8e8831e",
   "metadata": {},
   "outputs": [
    {
     "data": {
      "text/plain": [
       "#'user/pot"
      ]
     },
     "execution_count": 11,
     "metadata": {},
     "output_type": "execute_result"
    }
   ],
   "source": [
    "(defn pot [x] (take x (iterate #(* % 2) 1)))"
   ]
  },
  {
   "cell_type": "code",
   "execution_count": 12,
   "id": "a8cad2b2",
   "metadata": {},
   "outputs": [
    {
     "data": {
      "text/plain": [
       "(1 2 4 8 16)"
      ]
     },
     "execution_count": 12,
     "metadata": {},
     "output_type": "execute_result"
    }
   ],
   "source": [
    "(pot 5)"
   ]
  },
  {
   "cell_type": "code",
   "execution_count": 24,
   "id": "c0ef1bdf",
   "metadata": {},
   "outputs": [
    {
     "data": {
      "text/plain": [
       "#'user/vowel?"
      ]
     },
     "execution_count": 24,
     "metadata": {},
     "output_type": "execute_result"
    }
   ],
   "source": [
    "(def vowel? #{\\a\\e\\i\\o\\u\\A\\E\\I\\O\\U\\space})"
   ]
  },
  {
   "cell_type": "code",
   "execution_count": 25,
   "id": "42c6fde8",
   "metadata": {},
   "outputs": [
    {
     "data": {
      "text/plain": [
       "#'user/consonant?"
      ]
     },
     "execution_count": 25,
     "metadata": {},
     "output_type": "execute_result"
    }
   ],
   "source": [
    "(def consonant? (complement vowel?))"
   ]
  },
  {
   "cell_type": "code",
   "execution_count": null,
   "id": "65ccc373",
   "metadata": {},
   "outputs": [],
   "source": []
  },
  {
   "cell_type": "code",
   "execution_count": 26,
   "id": "72eff073",
   "metadata": {},
   "outputs": [
    {
     "data": {
      "text/plain": [
       "#'user/vowelnt"
      ]
     },
     "execution_count": 26,
     "metadata": {},
     "output_type": "execute_result"
    }
   ],
   "source": [
    "(defn vowelnt [x] \n",
    "    (seq x)\n",
    "    (filter consonant? x))"
   ]
  },
  {
   "cell_type": "code",
   "execution_count": 27,
   "id": "13947b90",
   "metadata": {},
   "outputs": [
    {
     "data": {
      "text/plain": [
       "(\\r \\c \\t \\d)"
      ]
     },
     "execution_count": 27,
     "metadata": {},
     "output_type": "execute_result"
    }
   ],
   "source": [
    "(vowelnt \"eric te odio\")"
   ]
  },
  {
   "cell_type": "code",
   "execution_count": 3,
   "id": "a774535c",
   "metadata": {},
   "outputs": [
    {
     "data": {
      "text/plain": [
       "(1 1 1 1 1 1 1 1 1 1)"
      ]
     },
     "execution_count": 3,
     "metadata": {},
     "output_type": "execute_result"
    }
   ],
   "source": [
    "(take 12 (iterate #(/ 1 %) 1))"
   ]
  },
  {
   "cell_type": "code",
   "execution_count": 8,
   "id": "f8e1a62e",
   "metadata": {},
   "outputs": [
    {
     "data": {
      "text/plain": [
       "#'user/div"
      ]
     },
     "execution_count": 8,
     "metadata": {},
     "output_type": "execute_result"
    }
   ],
   "source": [
    "(defn div [x] (take x (iterate #(/ % 2) 1)))"
   ]
  },
  {
   "cell_type": "code",
   "execution_count": 9,
   "id": "af080188",
   "metadata": {},
   "outputs": [
    {
     "data": {
      "text/plain": [
       "(1 1/2 1/4 1/8 1/16)"
      ]
     },
     "execution_count": 9,
     "metadata": {},
     "output_type": "execute_result"
    }
   ],
   "source": [
    "(div 5)"
   ]
  },
  {
   "cell_type": "code",
   "execution_count": 18,
   "id": "f3813756",
   "metadata": {},
   "outputs": [
    {
     "data": {
      "text/plain": [
       "#'user/div2"
      ]
     },
     "execution_count": 18,
     "metadata": {},
     "output_type": "execute_result"
    }
   ],
   "source": [
    "(defn div2 [x] (take x (map #(/ 1 %) (range x))))"
   ]
  },
  {
   "cell_type": "code",
   "execution_count": 4,
   "id": "cc39b2a5",
   "metadata": {},
   "outputs": [
    {
     "name": "stderr",
     "output_type": "stream",
     "text": [
      "Syntax error compiling at (REPL:1:1).\r\n",
      "Unable to resolve symbol: div2 in this context\r\n"
     ]
    },
    {
     "ename": "class clojure.lang.Compiler$CompilerException",
     "evalue": "",
     "output_type": "error",
     "traceback": [
      "  Util.java:   221 clojure.lang.Util/runtimeException",
      "   core.clj:  3214 clojure.core$eval/invokeStatic",
      "   core.clj:  3210 clojure.core$eval/invoke",
      "   main.clj:   437 clojure.main$repl$read_eval_print__9086$fn__9089/invoke",
      "   main.clj:   458 clojure.main$repl$fn__9095/invoke",
      "   main.clj:   368 clojure.main$repl/doInvoke",
      "RestFn.java:  1523 clojure.lang.RestFn/invoke",
      "   AFn.java:    22 clojure.lang.AFn/run",
      "   AFn.java:    22 clojure.lang.AFn/run",
      "Thread.java:   745 java.lang.Thread/run"
     ]
    }
   ],
   "source": [
    "(div2 5)"
   ]
  },
  {
   "cell_type": "code",
   "execution_count": null,
   "id": "656dc733",
   "metadata": {},
   "outputs": [],
   "source": []
  }
 ],
 "metadata": {
  "kernelspec": {
   "display_name": "Clojure (clojupyter=0.3.2=1)",
   "language": "clojure",
   "name": "conda-clojupyter"
  },
  "language_info": {
   "file_extension": ".clj",
   "mimetype": "text/x-clojure",
   "name": "clojure",
   "version": "1.10.1"
  }
 },
 "nbformat": 4,
 "nbformat_minor": 5
}
