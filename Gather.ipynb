{
 "cells": [
  {
   "cell_type": "code",
   "execution_count": 7,
   "id": "64599667",
   "metadata": {},
   "outputs": [
    {
     "data": {
      "text/plain": [
       "#'user/positivos"
      ]
     },
     "execution_count": 7,
     "metadata": {},
     "output_type": "execute_result"
    }
   ],
   "source": [
    "(defn positivos [lst] (filter pos-int? lst))"
   ]
  },
  {
   "cell_type": "code",
   "execution_count": 12,
   "id": "a4642adc",
   "metadata": {},
   "outputs": [
    {
     "data": {
      "text/plain": [
       "#'user/sumaR"
      ]
     },
     "execution_count": 12,
     "metadata": {},
     "output_type": "execute_result"
    }
   ],
   "source": [
    "(defn sumaR [x y]\n",
    "    (apply + (range (+ x 1) y)))"
   ]
  },
  {
   "cell_type": "code",
   "execution_count": 8,
   "id": "182bd357",
   "metadata": {},
   "outputs": [
    {
     "data": {
      "text/plain": [
       "(2 3 5 6)"
      ]
     },
     "execution_count": 8,
     "metadata": {},
     "output_type": "execute_result"
    }
   ],
   "source": [
    "(positivos '(-1 2 3 -4 5 6))"
   ]
  },
  {
   "cell_type": "code",
   "execution_count": 9,
   "id": "09906b47",
   "metadata": {},
   "outputs": [
    {
     "data": {
      "text/plain": [
       "#'user/f"
      ]
     },
     "execution_count": 9,
     "metadata": {},
     "output_type": "execute_result"
    }
   ],
   "source": [
    "(defn f [n] \n",
    "    (defn ratios [n] (map #(/ n %) (range 1 (+ n 1))))\n",
    "    (double (reduce + (ratios n))))"
   ]
  },
  {
   "cell_type": "code",
   "execution_count": 10,
   "id": "0bc5526b",
   "metadata": {},
   "outputs": [
    {
     "data": {
      "text/plain": [
       "1175.606189624289"
      ]
     },
     "execution_count": 10,
     "metadata": {},
     "output_type": "execute_result"
    }
   ],
   "source": [
    "(f 200)"
   ]
  },
  {
   "cell_type": "code",
   "execution_count": 11,
   "id": "c2545724",
   "metadata": {},
   "outputs": [
    {
     "data": {
      "text/plain": [
       "11.41666666666667"
      ]
     },
     "execution_count": 11,
     "metadata": {},
     "output_type": "execute_result"
    }
   ],
   "source": [
    "(f 5)"
   ]
  },
  {
   "cell_type": "code",
   "execution_count": null,
   "id": "72dca48c",
   "metadata": {},
   "outputs": [],
   "source": []
  }
 ],
 "metadata": {
  "kernelspec": {
   "display_name": "Clojure (clojupyter=0.3.2=1)",
   "language": "clojure",
   "name": "conda-clojupyter"
  },
  "language_info": {
   "file_extension": ".clj",
   "mimetype": "text/x-clojure",
   "name": "clojure",
   "version": "1.10.1"
  }
 },
 "nbformat": 4,
 "nbformat_minor": 5
}
