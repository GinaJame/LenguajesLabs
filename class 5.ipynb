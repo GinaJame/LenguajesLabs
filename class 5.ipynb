{
 "cells": [
  {
   "cell_type": "code",
   "execution_count": 5,
   "id": "6e706b97",
   "metadata": {},
   "outputs": [
    {
     "data": {
      "text/plain": [
       "true"
      ]
     },
     "execution_count": 5,
     "metadata": {},
     "output_type": "execute_result"
    }
   ],
   "source": [
    "(list? (seq '(1 3 4)))"
   ]
  },
  {
   "cell_type": "code",
   "execution_count": 6,
   "id": "96bb7363",
   "metadata": {},
   "outputs": [
    {
     "data": {
      "text/plain": [
       "true"
      ]
     },
     "execution_count": 6,
     "metadata": {},
     "output_type": "execute_result"
    }
   ],
   "source": [
    "(seq? (seq '(1 3 4)))"
   ]
  },
  {
   "cell_type": "code",
   "execution_count": 7,
   "id": "b3db1a08",
   "metadata": {},
   "outputs": [
    {
     "data": {
      "text/plain": [
       "clojure.lang.PersistentList"
      ]
     },
     "execution_count": 7,
     "metadata": {},
     "output_type": "execute_result"
    }
   ],
   "source": [
    "(class (seq '(1 3 4)))"
   ]
  },
  {
   "cell_type": "code",
   "execution_count": 8,
   "id": "6da4d1b3",
   "metadata": {},
   "outputs": [
    {
     "data": {
      "text/plain": [
       "#'user/mySeq"
      ]
     },
     "execution_count": 8,
     "metadata": {},
     "output_type": "execute_result"
    }
   ],
   "source": [
    "(def mySeq (seq '(\"peter \" 4 5 6)))"
   ]
  },
  {
   "cell_type": "code",
   "execution_count": 9,
   "id": "5e2d0f23",
   "metadata": {},
   "outputs": [
    {
     "data": {
      "text/plain": [
       "\"peter \""
      ]
     },
     "execution_count": 9,
     "metadata": {},
     "output_type": "execute_result"
    }
   ],
   "source": [
    "(first mySeq)"
   ]
  },
  {
   "cell_type": "code",
   "execution_count": 10,
   "id": "93abfcc0",
   "metadata": {},
   "outputs": [
    {
     "data": {
      "text/plain": [
       "(4 5 6)"
      ]
     },
     "execution_count": 10,
     "metadata": {},
     "output_type": "execute_result"
    }
   ],
   "source": [
    "(rest mySeq)"
   ]
  },
  {
   "cell_type": "code",
   "execution_count": 13,
   "id": "e1a2f921",
   "metadata": {},
   "outputs": [
    {
     "data": {
      "text/plain": [
       "((\"peter \" 4 5 6) 45)"
      ]
     },
     "execution_count": 13,
     "metadata": {},
     "output_type": "execute_result"
    }
   ],
   "source": [
    "(cons mySeq (list 45))"
   ]
  },
  {
   "cell_type": "code",
   "execution_count": 14,
   "id": "9c2f9a6d",
   "metadata": {},
   "outputs": [
    {
     "data": {
      "text/plain": [
       "((45) \"peter \" 4 5 6)"
      ]
     },
     "execution_count": 14,
     "metadata": {},
     "output_type": "execute_result"
    }
   ],
   "source": [
    "(conj mySeq (list 45))"
   ]
  },
  {
   "cell_type": "code",
   "execution_count": 15,
   "id": "944c5675",
   "metadata": {},
   "outputs": [
    {
     "data": {
      "text/plain": [
       "(45 \"peter \" 4 5 6)"
      ]
     },
     "execution_count": 15,
     "metadata": {},
     "output_type": "execute_result"
    }
   ],
   "source": [
    "(into mySeq (list 45))"
   ]
  },
  {
   "cell_type": "code",
   "execution_count": 16,
   "id": "57edf3a9",
   "metadata": {},
   "outputs": [
    {
     "data": {
      "text/plain": [
       "(\"peter \" 4 5 6)"
      ]
     },
     "execution_count": 16,
     "metadata": {},
     "output_type": "execute_result"
    }
   ],
   "source": [
    "mySeq"
   ]
  },
  {
   "cell_type": "code",
   "execution_count": 17,
   "id": "ac721351",
   "metadata": {},
   "outputs": [
    {
     "data": {
      "text/plain": [
       "false"
      ]
     },
     "execution_count": 17,
     "metadata": {},
     "output_type": "execute_result"
    }
   ],
   "source": [
    "(get [\"1 4 5\" false 99] 1)"
   ]
  },
  {
   "cell_type": "code",
   "execution_count": 18,
   "id": "a4e0341c",
   "metadata": {},
   "outputs": [
    {
     "data": {
      "text/plain": [
       "3"
      ]
     },
     "execution_count": 18,
     "metadata": {},
     "output_type": "execute_result"
    }
   ],
   "source": [
    "(count [1 2 3])"
   ]
  },
  {
   "cell_type": "code",
   "execution_count": 19,
   "id": "ddb885ee",
   "metadata": {},
   "outputs": [
    {
     "data": {
      "text/plain": [
       "[1 2 3]"
      ]
     },
     "execution_count": 19,
     "metadata": {},
     "output_type": "execute_result"
    }
   ],
   "source": [
    "(vector 1 2 3)"
   ]
  },
  {
   "cell_type": "code",
   "execution_count": 20,
   "id": "17e10374",
   "metadata": {},
   "outputs": [
    {
     "data": {
      "text/plain": [
       "[1 2 3 4 5 6]"
      ]
     },
     "execution_count": 20,
     "metadata": {},
     "output_type": "execute_result"
    }
   ],
   "source": [
    "(conj [1 2 3] 4 5 6)"
   ]
  },
  {
   "cell_type": "code",
   "execution_count": 22,
   "id": "a66ae483",
   "metadata": {},
   "outputs": [
    {
     "data": {
      "text/plain": [
       "([1 2 3] 4 5 6)"
      ]
     },
     "execution_count": 22,
     "metadata": {},
     "output_type": "execute_result"
    }
   ],
   "source": [
    "(cons [1 2 3] '(4 5 6))"
   ]
  },
  {
   "cell_type": "code",
   "execution_count": 23,
   "id": "7bc6b749",
   "metadata": {},
   "outputs": [
    {
     "data": {
      "text/plain": [
       "[1 2 3 4 5 6]"
      ]
     },
     "execution_count": 23,
     "metadata": {},
     "output_type": "execute_result"
    }
   ],
   "source": [
    "(into [1 2 3] '(4 5 6))"
   ]
  },
  {
   "cell_type": "code",
   "execution_count": 24,
   "id": "38ebf262",
   "metadata": {},
   "outputs": [
    {
     "data": {
      "text/plain": [
       "(1 2 3 4 5 6 7 8 9 10 11 12 13 14 15 16 17 18 19 20 21 22 23 24 25 26 27 28 29 30 31 32 33 34 35 36 37 38 39 40 41 42 43 44 45 46 47 48 49 50 51 52 53 54 55 56 57 58 59 60 61 62 63 64 65 66 67 68 69 70 71 72 73 74 75 76 77 78 79 80 81 82 83 84 85 86 87 88 89 90 91 92 93 94 95 96 97 98 99)"
      ]
     },
     "execution_count": 24,
     "metadata": {},
     "output_type": "execute_result"
    }
   ],
   "source": [
    "(range 1 100)"
   ]
  },
  {
   "cell_type": "code",
   "execution_count": 25,
   "id": "1ab20bbd",
   "metadata": {},
   "outputs": [
    {
     "data": {
      "text/plain": [
       "(\"x\" \"x\" \"x\")"
      ]
     },
     "execution_count": 25,
     "metadata": {},
     "output_type": "execute_result"
    }
   ],
   "source": [
    "(repeat 3 \"x\")"
   ]
  },
  {
   "cell_type": "code",
   "execution_count": 27,
   "id": "4f31526c",
   "metadata": {},
   "outputs": [
    {
     "data": {
      "text/plain": [
       "(9 10 11 12 13 14 15 16 17 18 19 20 21 22 23 24 25 26 27 28 29 30 31 32 33 34 35 36 37 38 39 40 41 42 43 44 45 46 47 48 49 50 51 52 53 54 55 56 57 58)"
      ]
     },
     "execution_count": 27,
     "metadata": {},
     "output_type": "execute_result"
    }
   ],
   "source": [
    "(take 50 (iterate inc 9))"
   ]
  },
  {
   "cell_type": "code",
   "execution_count": 28,
   "id": "d27672f3",
   "metadata": {},
   "outputs": [
    {
     "data": {
      "text/plain": [
       "(4 5 6 4 5)"
      ]
     },
     "execution_count": 28,
     "metadata": {},
     "output_type": "execute_result"
    }
   ],
   "source": [
    "(take 5 (cycle [4 5 6]))"
   ]
  },
  {
   "cell_type": "code",
   "execution_count": 29,
   "id": "0557b5e0",
   "metadata": {},
   "outputs": [
    {
     "data": {
      "text/plain": [
       "(1 \"A\" 2 \"B\" 3 \"C\" 4 \"D\" 5 \"E\")"
      ]
     },
     "execution_count": 29,
     "metadata": {},
     "output_type": "execute_result"
    }
   ],
   "source": [
    "(interleave (iterate inc 1) [\"A\" \"B\" \"C\" \"D\" \"E\"])"
   ]
  },
  {
   "cell_type": "code",
   "execution_count": 31,
   "id": "9e051a38",
   "metadata": {},
   "outputs": [
    {
     "data": {
      "text/plain": [
       "(4 \"A\" 4 \"B\" 4 \"C\" 4 \"D\" 4 \"E\")"
      ]
     },
     "execution_count": 31,
     "metadata": {},
     "output_type": "execute_result"
    }
   ],
   "source": [
    "(interleave (repeat 5 (#(+ % 3) 1)) [\"A\" \"B\" \"C\" \"D\" \"E\"])"
   ]
  },
  {
   "cell_type": "code",
   "execution_count": 32,
   "id": "04904467",
   "metadata": {},
   "outputs": [
    {
     "data": {
      "text/plain": [
       "(1 \"A\" 4 \"B\" 7 \"C\" 10 \"D\" 13 \"E\")"
      ]
     },
     "execution_count": 32,
     "metadata": {},
     "output_type": "execute_result"
    }
   ],
   "source": [
    "(interleave (iterate #(+ % 3) 1) [\"A\" \"B\" \"C\" \"D\" \"E\"])"
   ]
  },
  {
   "cell_type": "code",
   "execution_count": null,
   "id": "7bb3d82f",
   "metadata": {},
   "outputs": [],
   "source": [
    "(interpose)"
   ]
  },
  {
   "cell_type": "code",
   "execution_count": 36,
   "id": "e05001c2",
   "metadata": {},
   "outputs": [
    {
     "name": "stderr",
     "output_type": "stream",
     "text": [
      "Syntax error compiling at (REPL:1:1).\r\n",
      "Unable to resolve symbol: join in this context\r\n"
     ]
    },
    {
     "ename": "class clojure.lang.Compiler$CompilerException",
     "evalue": "",
     "output_type": "error",
     "traceback": [
      "  Util.java:   221 clojure.lang.Util/runtimeException",
      "   core.clj:  3214 clojure.core$eval/invokeStatic",
      "   core.clj:  3210 clojure.core$eval/invoke",
      "   main.clj:   437 clojure.main$repl$read_eval_print__9086$fn__9089/invoke",
      "   main.clj:   458 clojure.main$repl$fn__9095/invoke",
      "   main.clj:   368 clojure.main$repl/doInvoke",
      "RestFn.java:  1523 clojure.lang.RestFn/invoke",
      "   AFn.java:    22 clojure.lang.AFn/run",
      "   AFn.java:    22 clojure.lang.AFn/run",
      "Thread.java:   745 java.lang.Thread/run"
     ]
    }
   ],
   "source": [
    "(join \\, [\"uno\" \"dos\" \"tres\"])"
   ]
  },
  {
   "cell_type": "code",
   "execution_count": 34,
   "id": "969542a4",
   "metadata": {},
   "outputs": [
    {
     "data": {
      "text/plain": [
       "[0 2 4 6 8]"
      ]
     },
     "execution_count": 34,
     "metadata": {},
     "output_type": "execute_result"
    }
   ],
   "source": [
    "(filterv even? (range 10))"
   ]
  },
  {
   "cell_type": "code",
   "execution_count": 37,
   "id": "0c820248",
   "metadata": {},
   "outputs": [
    {
     "data": {
      "text/plain": [
       "[10 12 14 16 18 20 22 24 26 28 30 32 34 36 38 40 42 44 46 48 50 52 54 56 58 60 62 64 66 68 70 72 74 76 78 80 82 84 86 88 90 92 94 96 98 100 102 104 106 108 110 112 114 116 118 120 122 124 126 128 130 132 134 136 138 140 142 144 146 148 150 152 154 156 158 160 162 164 166 168 170 172 174 176 178 180 182 184 186 188 190 192 194 196 198 200 202 204 206 208]"
      ]
     },
     "execution_count": 37,
     "metadata": {},
     "output_type": "execute_result"
    }
   ],
   "source": [
    "(filterv even? (take 200 (iterate inc 10)))"
   ]
  },
  {
   "cell_type": "code",
   "execution_count": 38,
   "id": "800f010a",
   "metadata": {},
   "outputs": [
    {
     "data": {
      "text/plain": [
       "(10 12 14 16 18 20 22 24 26 28 30 32 34 36 38 40 42 44 46 48 50 52 54 56 58 60 62 64 66 68 70 72 74 76 78 80 82 84 86 88 90 92 94 96 98 100 102 104 106 108 110 112 114 116 118 120 122 124 126 128 130 132 134 136 138 140 142 144 146 148 150 152 154 156 158 160 162 164 166 168 170 172 174 176 178 180 182 184 186 188 190 192 194 196 198 200 202 204 206 208)"
      ]
     },
     "execution_count": 38,
     "metadata": {},
     "output_type": "execute_result"
    }
   ],
   "source": [
    "(filter even? (take 200 (iterate inc 10)))"
   ]
  },
  {
   "cell_type": "code",
   "execution_count": 41,
   "id": "a376f43a",
   "metadata": {},
   "outputs": [
    {
     "data": {
      "text/plain": [
       "[(0 2 4 6 8 10) (12 14 16 18)]"
      ]
     },
     "execution_count": 41,
     "metadata": {},
     "output_type": "execute_result"
    }
   ],
   "source": [
    "(split-with #(<= % 10)(range 0 20 2))"
   ]
  },
  {
   "cell_type": "code",
   "execution_count": 43,
   "id": "f6ce6605",
   "metadata": {},
   "outputs": [
    {
     "data": {
      "text/plain": [
       "15"
      ]
     },
     "execution_count": 43,
     "metadata": {},
     "output_type": "execute_result"
    }
   ],
   "source": [
    "(apply + '(4 5 6))"
   ]
  },
  {
   "cell_type": "code",
   "execution_count": 44,
   "id": "a23a3747",
   "metadata": {},
   "outputs": [
    {
     "data": {
      "text/plain": [
       "(\"gatos\" \"perros\" \"osos\")"
      ]
     },
     "execution_count": 44,
     "metadata": {},
     "output_type": "execute_result"
    }
   ],
   "source": [
    "(map #(str % \"s\") [\"gato\" \"perro\" \"oso\"])"
   ]
  },
  {
   "cell_type": "code",
   "execution_count": null,
   "id": "7c6c3a61",
   "metadata": {},
   "outputs": [],
   "source": []
  }
 ],
 "metadata": {
  "kernelspec": {
   "display_name": "Clojure (clojupyter=0.3.2=1)",
   "language": "clojure",
   "name": "conda-clojupyter"
  },
  "language_info": {
   "file_extension": ".clj",
   "mimetype": "text/x-clojure",
   "name": "clojure",
   "version": "1.10.1"
  }
 },
 "nbformat": 4,
 "nbformat_minor": 5
}
